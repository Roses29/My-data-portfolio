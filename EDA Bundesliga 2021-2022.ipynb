{
 "cells": [
  {
   "cell_type": "markdown",
   "metadata": {},
   "source": [
    "# Exploratory Data Analysis on Bundesliga 2021-2022 dataset"
   ]
  },
  {
   "cell_type": "markdown",
   "metadata": {},
   "source": [
    "My project is about performing Exploratory Data Analysis on a Bundelisga dataset with numbers from the season 2021/2022. Before starting the analysis part, I will do important steps such as discovery, cleaning and transformation.  "
   ]
  },
  {
   "cell_type": "markdown",
   "metadata": {},
   "source": [
    "## Data collection"
   ]
  },
  {
   "cell_type": "markdown",
   "metadata": {},
   "source": [
    "> The data I used for my project comes **API Football** (https://www.api-football.com/), which provides football data for multiple competitions from various countries. I requested the players' data from the Bundesliga (players by league id) from the API through Google sheets, using an API connector. API Football provides guidance about this process. I then transferred the data from Google sheets to an Excel file, where I made a couple of modifications such as reordering and renaming columns, adding and removing rows or manually inputting data. "
   ]
  },
  {
   "cell_type": "markdown",
   "metadata": {},
   "source": [
    "### Dataset issues"
   ]
  },
  {
   "cell_type": "markdown",
   "metadata": {},
   "source": [
    "> When I went through the dataset in Excel, I noticed that there was some missing data which is common. However, as a football fan I noticed that in several teams, some key players having significant stats did not appear in the dataset. Furthermore, there were players in the dataset that did not play any games so all of the columns had null or 0 values. These were two big issues. For the players who did not have any single appearance, I deleted their rows. To include key players that were missing, I had to request different data from API Football. Through Google sheets, I retrieved the data of players by team id (each team has an id). This allowed me to find in each team, the key players (and their stats) that were missing in the original dataset. I copied the rows of these players and pasted them into the Excel dataset. "
   ]
  },
  {
   "cell_type": "markdown",
   "metadata": {},
   "source": [
    "### Importing necessary libraries "
   ]
  },
  {
   "cell_type": "code",
   "execution_count": 1,
   "metadata": {},
   "outputs": [],
   "source": [
    "import pandas as pd\n",
    "import numpy as np\n",
    "import matplotlib.pyplot as plt\n",
    "%matplotlib inline"
   ]
  },
  {
   "cell_type": "markdown",
   "metadata": {},
   "source": [
    "## Loading and discovering the dataset"
   ]
  },
  {
   "cell_type": "code",
   "execution_count": 2,
   "metadata": {},
   "outputs": [],
   "source": [
    "#loading dataset \n",
    "df= pd.read_csv(r\"C:\\Users\\user\\Desktop\\Robin\\Portfolio projects\\EDA Bundesliga 2021-2022\\BDA player statistics 2021-2022.csv\")"
   ]
  },
  {
   "cell_type": "code",
   "execution_count": 3,
   "metadata": {},
   "outputs": [
    {
     "name": "stdout",
     "output_type": "stream",
     "text": [
      "<class 'pandas.core.frame.DataFrame'>\n",
      "RangeIndex: 517 entries, 0 to 516\n",
      "Columns: 101 entries, player id to  Team 2.penalty saved\n",
      "dtypes: bool(2), float64(55), int64(17), object(27)\n",
      "memory usage: 401.0+ KB\n"
     ]
    }
   ],
   "source": [
    "#checking dataframe info\n",
    "df.info()"
   ]
  },
  {
   "cell_type": "markdown",
   "metadata": {},
   "source": [
    "The result aboves shows that the dataset has 517 rows and 101 columns. The first column name is 'player id' and the last column name is 'Team2. penalty saved'"
   ]
  },
  {
   "cell_type": "code",
   "execution_count": 4,
   "metadata": {},
   "outputs": [
    {
     "data": {
      "text/html": [
       "<div>\n",
       "<style scoped>\n",
       "    .dataframe tbody tr th:only-of-type {\n",
       "        vertical-align: middle;\n",
       "    }\n",
       "\n",
       "    .dataframe tbody tr th {\n",
       "        vertical-align: top;\n",
       "    }\n",
       "\n",
       "    .dataframe thead th {\n",
       "        text-align: right;\n",
       "    }\n",
       "</style>\n",
       "<table border=\"1\" class=\"dataframe\">\n",
       "  <thead>\n",
       "    <tr style=\"text-align: right;\">\n",
       "      <th></th>\n",
       "      <th>player id</th>\n",
       "      <th>name</th>\n",
       "      <th>firstname</th>\n",
       "      <th>lastname</th>\n",
       "      <th>age</th>\n",
       "      <th>birth date</th>\n",
       "      <th>birth place</th>\n",
       "      <th>birth country</th>\n",
       "      <th>nationality</th>\n",
       "      <th>height</th>\n",
       "      <th>...</th>\n",
       "      <th>Team 2.fouls drawn</th>\n",
       "      <th>Team 2.fouls committed</th>\n",
       "      <th>Team 2.cards yellow</th>\n",
       "      <th>Team 2.cards yellowred</th>\n",
       "      <th>Team 2.cards red</th>\n",
       "      <th>Team 2.penalty won</th>\n",
       "      <th>Team 2.penalty conceded</th>\n",
       "      <th>Team 2.penalty scored</th>\n",
       "      <th>Team 2.penalty missed</th>\n",
       "      <th>Team 2.penalty saved</th>\n",
       "    </tr>\n",
       "  </thead>\n",
       "  <tbody>\n",
       "    <tr>\n",
       "      <th>0</th>\n",
       "      <td>22</td>\n",
       "      <td>Jacob Bruun Larsen</td>\n",
       "      <td>Jacob</td>\n",
       "      <td>Bruun Larsen</td>\n",
       "      <td>24</td>\n",
       "      <td>19-09-98</td>\n",
       "      <td>Lyngby</td>\n",
       "      <td>Denmark</td>\n",
       "      <td>Denmark</td>\n",
       "      <td>183 cm</td>\n",
       "      <td>...</td>\n",
       "      <td>NaN</td>\n",
       "      <td>NaN</td>\n",
       "      <td>NaN</td>\n",
       "      <td>NaN</td>\n",
       "      <td>NaN</td>\n",
       "      <td>NaN</td>\n",
       "      <td>NaN</td>\n",
       "      <td>NaN</td>\n",
       "      <td>NaN</td>\n",
       "      <td>NaN</td>\n",
       "    </tr>\n",
       "    <tr>\n",
       "      <th>1</th>\n",
       "      <td>416</td>\n",
       "      <td>Sebastian Rudy</td>\n",
       "      <td>Sebastian</td>\n",
       "      <td>Rudy</td>\n",
       "      <td>32</td>\n",
       "      <td>28-02-90</td>\n",
       "      <td>Villingen-Schwenningen</td>\n",
       "      <td>Germany</td>\n",
       "      <td>Germany</td>\n",
       "      <td>180 cm</td>\n",
       "      <td>...</td>\n",
       "      <td>NaN</td>\n",
       "      <td>NaN</td>\n",
       "      <td>NaN</td>\n",
       "      <td>NaN</td>\n",
       "      <td>NaN</td>\n",
       "      <td>NaN</td>\n",
       "      <td>NaN</td>\n",
       "      <td>NaN</td>\n",
       "      <td>NaN</td>\n",
       "      <td>NaN</td>\n",
       "    </tr>\n",
       "    <tr>\n",
       "      <th>2</th>\n",
       "      <td>705</td>\n",
       "      <td>Ermin Bičakčić</td>\n",
       "      <td>Ermin</td>\n",
       "      <td>Bičakčić</td>\n",
       "      <td>32</td>\n",
       "      <td>24-01-90</td>\n",
       "      <td>Zvornik</td>\n",
       "      <td>Bosnia and Herzegovina</td>\n",
       "      <td>Bosnia and Herzegovina</td>\n",
       "      <td>185 cm</td>\n",
       "      <td>...</td>\n",
       "      <td>NaN</td>\n",
       "      <td>NaN</td>\n",
       "      <td>NaN</td>\n",
       "      <td>NaN</td>\n",
       "      <td>NaN</td>\n",
       "      <td>NaN</td>\n",
       "      <td>NaN</td>\n",
       "      <td>NaN</td>\n",
       "      <td>NaN</td>\n",
       "      <td>NaN</td>\n",
       "    </tr>\n",
       "    <tr>\n",
       "      <th>3</th>\n",
       "      <td>708</td>\n",
       "      <td>Benjamin Hübner</td>\n",
       "      <td>Benjamin</td>\n",
       "      <td>Hübner</td>\n",
       "      <td>33</td>\n",
       "      <td>04-07-89</td>\n",
       "      <td>Wiesbaden</td>\n",
       "      <td>Germany</td>\n",
       "      <td>Germany</td>\n",
       "      <td>193 cm</td>\n",
       "      <td>...</td>\n",
       "      <td>NaN</td>\n",
       "      <td>NaN</td>\n",
       "      <td>NaN</td>\n",
       "      <td>NaN</td>\n",
       "      <td>NaN</td>\n",
       "      <td>NaN</td>\n",
       "      <td>NaN</td>\n",
       "      <td>NaN</td>\n",
       "      <td>NaN</td>\n",
       "      <td>NaN</td>\n",
       "    </tr>\n",
       "    <tr>\n",
       "      <th>4</th>\n",
       "      <td>709</td>\n",
       "      <td>Pavel Kadeřábek</td>\n",
       "      <td>Pavel</td>\n",
       "      <td>Kadeřábek</td>\n",
       "      <td>30</td>\n",
       "      <td>25-04-92</td>\n",
       "      <td>Praha</td>\n",
       "      <td>Czech Republic</td>\n",
       "      <td>Czech Republic</td>\n",
       "      <td>182 cm</td>\n",
       "      <td>...</td>\n",
       "      <td>NaN</td>\n",
       "      <td>NaN</td>\n",
       "      <td>NaN</td>\n",
       "      <td>NaN</td>\n",
       "      <td>NaN</td>\n",
       "      <td>NaN</td>\n",
       "      <td>NaN</td>\n",
       "      <td>NaN</td>\n",
       "      <td>NaN</td>\n",
       "      <td>NaN</td>\n",
       "    </tr>\n",
       "  </tbody>\n",
       "</table>\n",
       "<p>5 rows × 101 columns</p>\n",
       "</div>"
      ],
      "text/plain": [
       "   player id                name  firstname      lastname age birth date  \\\n",
       "0         22  Jacob Bruun Larsen      Jacob  Bruun Larsen  24   19-09-98   \n",
       "1        416      Sebastian Rudy  Sebastian          Rudy  32   28-02-90   \n",
       "2        705      Ermin Bičakčić      Ermin      Bičakčić  32   24-01-90   \n",
       "3        708     Benjamin Hübner   Benjamin        Hübner  33   04-07-89   \n",
       "4        709     Pavel Kadeřábek      Pavel     Kadeřábek  30   25-04-92   \n",
       "\n",
       "              birth place           birth country             nationality  \\\n",
       "0                  Lyngby                 Denmark                 Denmark   \n",
       "1  Villingen-Schwenningen                 Germany                 Germany   \n",
       "2                 Zvornik  Bosnia and Herzegovina  Bosnia and Herzegovina   \n",
       "3               Wiesbaden                 Germany                 Germany   \n",
       "4                   Praha          Czech Republic          Czech Republic   \n",
       "\n",
       "   height  ...  Team 2.fouls drawn  Team 2.fouls committed  \\\n",
       "0  183 cm  ...                 NaN                     NaN   \n",
       "1  180 cm  ...                 NaN                     NaN   \n",
       "2  185 cm  ...                 NaN                     NaN   \n",
       "3  193 cm  ...                 NaN                     NaN   \n",
       "4  182 cm  ...                 NaN                     NaN   \n",
       "\n",
       "    Team 2.cards yellow  Team 2.cards yellowred   Team 2.cards red  \\\n",
       "0                   NaN                     NaN                NaN   \n",
       "1                   NaN                     NaN                NaN   \n",
       "2                   NaN                     NaN                NaN   \n",
       "3                   NaN                     NaN                NaN   \n",
       "4                   NaN                     NaN                NaN   \n",
       "\n",
       "    Team 2.penalty won   Team 2.penalty conceded   Team 2.penalty scored  \\\n",
       "0                  NaN                       NaN                     NaN   \n",
       "1                  NaN                       NaN                     NaN   \n",
       "2                  NaN                       NaN                     NaN   \n",
       "3                  NaN                       NaN                     NaN   \n",
       "4                  NaN                       NaN                     NaN   \n",
       "\n",
       "    Team 2.penalty missed   Team 2.penalty saved  \n",
       "0                     NaN                    NaN  \n",
       "1                     NaN                    NaN  \n",
       "2                     NaN                    NaN  \n",
       "3                     NaN                    NaN  \n",
       "4                     NaN                    NaN  \n",
       "\n",
       "[5 rows x 101 columns]"
      ]
     },
     "execution_count": 4,
     "metadata": {},
     "output_type": "execute_result"
    }
   ],
   "source": [
    "#printing first five rows\n",
    "df.head()"
   ]
  },
  {
   "cell_type": "code",
   "execution_count": 5,
   "metadata": {},
   "outputs": [
    {
     "data": {
      "text/plain": [
       "['player id',\n",
       " 'name',\n",
       " 'firstname',\n",
       " 'lastname',\n",
       " 'age',\n",
       " 'birth date',\n",
       " 'birth place',\n",
       " 'birth country',\n",
       " 'nationality',\n",
       " 'height',\n",
       " 'weight',\n",
       " 'position',\n",
       " 'team id',\n",
       " 'team name',\n",
       " 'appearances',\n",
       " 'Starter',\n",
       " ' bench',\n",
       " 'substituted in',\n",
       " 'substituted out',\n",
       " 'total minutes played',\n",
       " 'player rating',\n",
       " 'injured',\n",
       " 'photo',\n",
       " 'team logo',\n",
       " 'league id',\n",
       " 'league name',\n",
       " 'league country',\n",
       " 'league logo',\n",
       " 'league flag',\n",
       " 'league season',\n",
       " 'games number',\n",
       " ' captain',\n",
       " 'shots total',\n",
       " 'shots on target',\n",
       " 'total goals',\n",
       " 'goals conceded',\n",
       " ' assists',\n",
       " 'total saves',\n",
       " 'total passes',\n",
       " 'successful tackles',\n",
       " 'dribbled past',\n",
       " ' blocks',\n",
       " ' interceptions',\n",
       " 'duels total',\n",
       " 'duels won',\n",
       " 'dribbles attempts',\n",
       " 'dribbles success',\n",
       " 'fouls drawn',\n",
       " 'fouls committed',\n",
       " 'yellow cards',\n",
       " 'cards yellowred',\n",
       " 'cards red',\n",
       " 'penalty won',\n",
       " 'penalty conceded',\n",
       " 'penalty scored',\n",
       " 'penalty missed',\n",
       " 'penalty saved',\n",
       " ' Team 2.team id',\n",
       " ' Team 2.position',\n",
       " ' Team 2.team name',\n",
       " ' Team 2.appearances',\n",
       " ' Team 2.starter',\n",
       " ' Team 2.substitutes bench',\n",
       " ' Team 2.substitutes in',\n",
       " ' Team 2.substitutes out',\n",
       " ' Team 2.total minutes',\n",
       " ' Team 2.player rating',\n",
       " ' Team 2.team logo',\n",
       " ' Team 2.league id',\n",
       " ' Team 2.league name',\n",
       " ' Team 2.league country',\n",
       " ' Team 2.league logo',\n",
       " ' Team 2.league flag',\n",
       " ' Team 2.league season',\n",
       " ' Team 2.games number',\n",
       " ' Team 2.captain',\n",
       " ' Team 2.shots total',\n",
       " ' Team 2.shots on target',\n",
       " ' Team 2.total goals',\n",
       " ' Team 2.goals conceded',\n",
       " ' Team 2.assists',\n",
       " ' Team 2.saves',\n",
       " ' Team 2.total passes',\n",
       " ' Team 2.sucessful tackles',\n",
       " ' Team 2.dribbled past',\n",
       " ' Team 2.blocks',\n",
       " ' Team 2.interceptions',\n",
       " ' Team 2.total duels',\n",
       " ' Team 2.duels won',\n",
       " ' Team 2.dribbles attempts',\n",
       " ' Team 2.dribbles success',\n",
       " ' Team 2.fouls drawn',\n",
       " ' Team 2.fouls committed',\n",
       " ' Team 2.cards yellow',\n",
       " ' Team 2.cards yellowred',\n",
       " ' Team 2.cards red',\n",
       " ' Team 2.penalty won',\n",
       " ' Team 2.penalty conceded',\n",
       " ' Team 2.penalty scored',\n",
       " ' Team 2.penalty missed',\n",
       " ' Team 2.penalty saved']"
      ]
     },
     "execution_count": 5,
     "metadata": {},
     "output_type": "execute_result"
    }
   ],
   "source": [
    "#get all columns names\n",
    "df.columns.values.tolist()"
   ]
  },
  {
   "cell_type": "markdown",
   "metadata": {},
   "source": [
    "The code above displays all of the columns' names. Players are loaned most often during the course of the season in January. They can also be loaned or definitively transferred during the 1st transfer window that occurs in August of the previous year. Therefore, loaned or transferred players have their stats collected for the 2 teams that they played for during the current season. The columns starting with \"**Team 2**\" shows the players stats for the club they were loaned or transferred and the columns that don't start with \"**Team 2**\" represent the stats for the team they were loaned or transferred to. "
   ]
  },
  {
   "cell_type": "markdown",
   "metadata": {},
   "source": [
    "Below there is a description of columns for which the meaning might be difficult to understand:\n",
    "\n",
    "**'bench':** Number of times the player has been on the bench.\n",
    "\n",
    "**'yellowred':** Number of times the player received two yellows that led to a red card.\n",
    "\n",
    "\n",
    "\n"
   ]
  },
  {
   "cell_type": "code",
   "execution_count": 6,
   "metadata": {},
   "outputs": [
    {
     "data": {
      "text/html": [
       "<div>\n",
       "<style scoped>\n",
       "    .dataframe tbody tr th:only-of-type {\n",
       "        vertical-align: middle;\n",
       "    }\n",
       "\n",
       "    .dataframe tbody tr th {\n",
       "        vertical-align: top;\n",
       "    }\n",
       "\n",
       "    .dataframe thead th {\n",
       "        text-align: right;\n",
       "    }\n",
       "</style>\n",
       "<table border=\"1\" class=\"dataframe\">\n",
       "  <thead>\n",
       "    <tr style=\"text-align: right;\">\n",
       "      <th></th>\n",
       "      <th>player id</th>\n",
       "      <th>name</th>\n",
       "      <th>position</th>\n",
       "    </tr>\n",
       "  </thead>\n",
       "  <tbody>\n",
       "    <tr>\n",
       "      <th>12</th>\n",
       "      <td>126949</td>\n",
       "      <td>C. Richards</td>\n",
       "      <td>Defender</td>\n",
       "    </tr>\n",
       "    <tr>\n",
       "      <th>154</th>\n",
       "      <td>24839</td>\n",
       "      <td>Marvin Friedrich</td>\n",
       "      <td>Defender</td>\n",
       "    </tr>\n",
       "    <tr>\n",
       "      <th>197</th>\n",
       "      <td>161922</td>\n",
       "      <td>Ansgar Knauff</td>\n",
       "      <td>Attacker</td>\n",
       "    </tr>\n",
       "    <tr>\n",
       "      <th>243</th>\n",
       "      <td>108474</td>\n",
       "      <td>L  Kilian</td>\n",
       "      <td>Defender</td>\n",
       "    </tr>\n",
       "    <tr>\n",
       "      <th>253</th>\n",
       "      <td>1941</td>\n",
       "      <td>Marcus Ingvartsen</td>\n",
       "      <td>Attacker</td>\n",
       "    </tr>\n",
       "    <tr>\n",
       "      <th>299</th>\n",
       "      <td>26301</td>\n",
       "      <td>Marc Oliver Kempf</td>\n",
       "      <td>Defender</td>\n",
       "    </tr>\n",
       "    <tr>\n",
       "      <th>341</th>\n",
       "      <td>1159</td>\n",
       "      <td>M. Sabitzer</td>\n",
       "      <td>Midfielder</td>\n",
       "    </tr>\n",
       "    <tr>\n",
       "      <th>379</th>\n",
       "      <td>24905</td>\n",
       "      <td>Sebastian Griesbeck</td>\n",
       "      <td>Midfielder</td>\n",
       "    </tr>\n",
       "    <tr>\n",
       "      <th>414</th>\n",
       "      <td>26237</td>\n",
       "      <td>Dominique Heintz</td>\n",
       "      <td>Defender</td>\n",
       "    </tr>\n",
       "    <tr>\n",
       "      <th>445</th>\n",
       "      <td>81573</td>\n",
       "      <td>Omar Marmoush</td>\n",
       "      <td>Attacker</td>\n",
       "    </tr>\n",
       "    <tr>\n",
       "      <th>496</th>\n",
       "      <td>25329</td>\n",
       "      <td>Max Bennet Kruse</td>\n",
       "      <td>Attacker</td>\n",
       "    </tr>\n",
       "    <tr>\n",
       "      <th>505</th>\n",
       "      <td>25458</td>\n",
       "      <td>Dodi Lukébakio</td>\n",
       "      <td>Attacker</td>\n",
       "    </tr>\n",
       "  </tbody>\n",
       "</table>\n",
       "</div>"
      ],
      "text/plain": [
       "     player id                 name    position\n",
       "12      126949          C. Richards    Defender\n",
       "154      24839     Marvin Friedrich    Defender\n",
       "197     161922        Ansgar Knauff    Attacker\n",
       "243     108474            L  Kilian    Defender\n",
       "253       1941    Marcus Ingvartsen    Attacker\n",
       "299      26301    Marc Oliver Kempf    Defender\n",
       "341       1159          M. Sabitzer  Midfielder\n",
       "379      24905  Sebastian Griesbeck  Midfielder\n",
       "414      26237     Dominique Heintz    Defender\n",
       "445      81573        Omar Marmoush    Attacker\n",
       "496      25329     Max Bennet Kruse    Attacker\n",
       "505      25458       Dodi Lukébakio    Attacker"
      ]
     },
     "execution_count": 6,
     "metadata": {},
     "output_type": "execute_result"
    }
   ],
   "source": [
    "#displaying the players who played for two different teams during the season\n",
    "two_teams=df.loc[df[' Team 2.team id'].notnull(),['player id', 'name', 'position']]\n",
    "two_teams"
   ]
  },
  {
   "cell_type": "markdown",
   "metadata": {},
   "source": [
    "## Data cleaning and transformation"
   ]
  },
  {
   "cell_type": "code",
   "execution_count": 7,
   "metadata": {},
   "outputs": [
    {
     "data": {
      "text/plain": [
       "['player id',\n",
       " 'name',\n",
       " 'firstname',\n",
       " 'lastname',\n",
       " 'age',\n",
       " 'birth date',\n",
       " 'birth place',\n",
       " 'birth country',\n",
       " 'nationality',\n",
       " 'height',\n",
       " 'weight',\n",
       " 'position',\n",
       " 'team id',\n",
       " 'team name',\n",
       " 'appearances',\n",
       " 'Starter',\n",
       " 'bench',\n",
       " 'substituted in',\n",
       " 'substituted out',\n",
       " 'total minutes played',\n",
       " 'player rating',\n",
       " 'injured',\n",
       " 'photo',\n",
       " 'team logo',\n",
       " 'league id',\n",
       " 'league name',\n",
       " 'league country',\n",
       " 'league logo',\n",
       " 'league flag',\n",
       " 'league season',\n",
       " 'games number',\n",
       " 'captain',\n",
       " 'shots total',\n",
       " 'shots on target',\n",
       " 'total goals',\n",
       " 'goals conceded',\n",
       " 'assists',\n",
       " 'total saves',\n",
       " 'total passes',\n",
       " 'successful tackles',\n",
       " 'dribbled past',\n",
       " 'blocks',\n",
       " 'interceptions',\n",
       " 'duels total',\n",
       " 'duels won',\n",
       " 'dribbles attempts',\n",
       " 'dribbles success',\n",
       " 'fouls drawn',\n",
       " 'fouls committed',\n",
       " 'yellow cards',\n",
       " 'cards yellowred',\n",
       " 'cards red',\n",
       " 'penalty won',\n",
       " 'penalty conceded',\n",
       " 'penalty scored',\n",
       " 'penalty missed',\n",
       " 'penalty saved',\n",
       " 'Team 2.team id',\n",
       " 'Team 2.position',\n",
       " 'Team 2.team name',\n",
       " 'Team 2.appearances',\n",
       " 'Team 2.starter',\n",
       " 'Team 2.substitutes bench',\n",
       " 'Team 2.substitutes in',\n",
       " 'Team 2.substitutes out',\n",
       " 'Team 2.total minutes',\n",
       " 'Team 2.player rating',\n",
       " 'Team 2.team logo',\n",
       " 'Team 2.league id',\n",
       " 'Team 2.league name',\n",
       " 'Team 2.league country',\n",
       " 'Team 2.league logo',\n",
       " 'Team 2.league flag',\n",
       " 'Team 2.league season',\n",
       " 'Team 2.games number',\n",
       " 'Team 2.captain',\n",
       " 'Team 2.shots total',\n",
       " 'Team 2.shots on target',\n",
       " 'Team 2.total goals',\n",
       " 'Team 2.goals conceded',\n",
       " 'Team 2.assists',\n",
       " 'Team 2.saves',\n",
       " 'Team 2.total passes',\n",
       " 'Team 2.sucessful tackles',\n",
       " 'Team 2.dribbled past',\n",
       " 'Team 2.blocks',\n",
       " 'Team 2.interceptions',\n",
       " 'Team 2.total duels',\n",
       " 'Team 2.duels won',\n",
       " 'Team 2.dribbles attempts',\n",
       " 'Team 2.dribbles success',\n",
       " 'Team 2.fouls drawn',\n",
       " 'Team 2.fouls committed',\n",
       " 'Team 2.cards yellow',\n",
       " 'Team 2.cards yellowred',\n",
       " 'Team 2.cards red',\n",
       " 'Team 2.penalty won',\n",
       " 'Team 2.penalty conceded',\n",
       " 'Team 2.penalty scored',\n",
       " 'Team 2.penalty missed',\n",
       " 'Team 2.penalty saved']"
      ]
     },
     "execution_count": 7,
     "metadata": {},
     "output_type": "execute_result"
    }
   ],
   "source": [
    "#removing left whitespaces in column names\n",
    "df.rename(columns=lambda x:x.lstrip(),inplace=True)\n",
    "#verifiying updated columns names\n",
    "df.columns.values.tolist()"
   ]
  },
  {
   "cell_type": "code",
   "execution_count": 8,
   "metadata": {},
   "outputs": [
    {
     "data": {
      "text/plain": [
       "player id                     0\n",
       "name                          0\n",
       "firstname                     0\n",
       "lastname                      0\n",
       "age                           0\n",
       "birth date                    0\n",
       "birth place                  55\n",
       "birth country                 0\n",
       "nationality                   0\n",
       "height                       13\n",
       "weight                       17\n",
       "position                      0\n",
       "team id                       0\n",
       "team name                     0\n",
       "appearances                   0\n",
       "Starter                       0\n",
       "bench                         0\n",
       "substituted in                0\n",
       "substituted out               0\n",
       "total minutes played          0\n",
       "player rating                14\n",
       "injured                       0\n",
       "photo                         0\n",
       "team logo                     0\n",
       "league id                     0\n",
       "league name                   0\n",
       "league country                0\n",
       "league logo                   0\n",
       "league flag                   0\n",
       "league season                 0\n",
       "games number                517\n",
       "captain                       0\n",
       "shots total                 111\n",
       "shots on target             152\n",
       "total goals                   0\n",
       "goals conceded                0\n",
       "assists                     281\n",
       "total saves                 480\n",
       "total passes                  7\n",
       "successful tackles           76\n",
       "dribbled past               505\n",
       "blocks                      194\n",
       "interceptions                95\n",
       "duels total                  24\n",
       "duels won                    40\n",
       "dribbles attempts            83\n",
       "dribbles success            104\n",
       "fouls drawn                  73\n",
       "fouls committed              85\n",
       "yellow cards                  0\n",
       "cards yellowred               0\n",
       "cards red                     0\n",
       "penalty won                 505\n",
       "penalty conceded            505\n",
       "penalty scored                0\n",
       "penalty missed                0\n",
       "penalty saved               477\n",
       "Team 2.team id              505\n",
       "Team 2.position             505\n",
       "Team 2.team name            505\n",
       "Team 2.appearances          505\n",
       "Team 2.starter              505\n",
       "Team 2.substitutes bench    505\n",
       "Team 2.substitutes in       505\n",
       "Team 2.substitutes out      505\n",
       "Team 2.total minutes        505\n",
       "Team 2.player rating        517\n",
       "Team 2.team logo            505\n",
       "Team 2.league id            505\n",
       "Team 2.league name          505\n",
       "Team 2.league country       505\n",
       "Team 2.league logo          505\n",
       "Team 2.league flag          505\n",
       "Team 2.league season        505\n",
       "Team 2.games number         517\n",
       "Team 2.captain              506\n",
       "Team 2.shots total          505\n",
       "Team 2.shots on target      506\n",
       "Team 2.total goals          505\n",
       "Team 2.goals conceded       517\n",
       "Team 2.assists              505\n",
       "Team 2.saves                517\n",
       "Team 2.total passes         505\n",
       "Team 2.sucessful tackles    505\n",
       "Team 2.dribbled past        505\n",
       "Team 2.blocks               505\n",
       "Team 2.interceptions        505\n",
       "Team 2.total duels          513\n",
       "Team 2.duels won            513\n",
       "Team 2.dribbles attempts    505\n",
       "Team 2.dribbles success     505\n",
       "Team 2.fouls drawn          505\n",
       "Team 2.fouls committed      505\n",
       "Team 2.cards yellow         505\n",
       "Team 2.cards yellowred      505\n",
       "Team 2.cards red            505\n",
       "Team 2.penalty won          505\n",
       "Team 2.penalty conceded     505\n",
       "Team 2.penalty scored       505\n",
       "Team 2.penalty missed       505\n",
       "Team 2.penalty saved        517\n",
       "dtype: int64"
      ]
     },
     "execution_count": 8,
     "metadata": {},
     "output_type": "execute_result"
    }
   ],
   "source": [
    "#display the number of nulls values by column\n",
    "pd.options.display.max_rows=115\n",
    "df.isnull().sum()"
   ]
  },
  {
   "cell_type": "markdown",
   "metadata": {},
   "source": [
    "The result above shows that multiple columns do not have any values at all with 517 nulls (517 rows in the dataset). Therefore, I will be dropping these columns. In addition, I will also delete 'dribbled past' and 'Team2.dribbled past because originally they had all nulls values but I updated some them when I manually input data for individuals that plyed for two teams. These two columns only have data for 12 players so they won't be useful for my analysis. I am also going to delete other columns that I won't need such as team logo, league id, league season, league name and others."
   ]
  },
  {
   "cell_type": "code",
   "execution_count": 9,
   "metadata": {},
   "outputs": [],
   "source": [
    "#dropping columns\n",
    "df.drop(['injured',\n",
    " 'photo',\n",
    " 'team logo',\n",
    " 'league id',\n",
    " 'league name',\n",
    " 'league country',\n",
    " 'league logo',\n",
    " 'league flag',\n",
    " 'league season',\n",
    " 'games number',\n",
    " 'captain','Team 2.player rating',\n",
    " 'Team 2.team logo',\n",
    " 'Team 2.league id',\n",
    " 'Team 2.league name',\n",
    " 'Team 2.league country',\n",
    " 'Team 2.league logo',\n",
    " 'Team 2.league flag',\n",
    " 'Team 2.league season',\n",
    " 'Team 2.games number',\n",
    " 'Team 2.captain','Team 2.dribbled past','dribbled past','Team 2.penalty saved'], axis=1, inplace=True)"
   ]
  },
  {
   "cell_type": "code",
   "execution_count": 10,
   "metadata": {},
   "outputs": [
    {
     "data": {
      "text/plain": [
       "77"
      ]
     },
     "execution_count": 10,
     "metadata": {},
     "output_type": "execute_result"
    }
   ],
   "source": [
    "#displaying the new number of columns\n",
    "len(df.columns)"
   ]
  },
  {
   "cell_type": "code",
   "execution_count": 11,
   "metadata": {},
   "outputs": [
    {
     "data": {
      "text/plain": [
       "75"
      ]
     },
     "execution_count": 11,
     "metadata": {},
     "output_type": "execute_result"
    }
   ],
   "source": [
    "#dropping two more columns \n",
    "df.drop(['Team 2.saves','Team 2.goals conceded'], axis=1, inplace=True)\n",
    "len(df.columns)"
   ]
  },
  {
   "cell_type": "code",
   "execution_count": 12,
   "metadata": {},
   "outputs": [
    {
     "data": {
      "text/html": [
       "<div>\n",
       "<style scoped>\n",
       "    .dataframe tbody tr th:only-of-type {\n",
       "        vertical-align: middle;\n",
       "    }\n",
       "\n",
       "    .dataframe tbody tr th {\n",
       "        vertical-align: top;\n",
       "    }\n",
       "\n",
       "    .dataframe thead th {\n",
       "        text-align: right;\n",
       "    }\n",
       "</style>\n",
       "<table border=\"1\" class=\"dataframe\">\n",
       "  <thead>\n",
       "    <tr style=\"text-align: right;\">\n",
       "      <th></th>\n",
       "      <th>player id</th>\n",
       "      <th>name</th>\n",
       "      <th>firstname</th>\n",
       "      <th>lastname</th>\n",
       "      <th>age</th>\n",
       "      <th>birth date</th>\n",
       "      <th>birth place</th>\n",
       "      <th>birth country</th>\n",
       "      <th>nationality</th>\n",
       "      <th>height</th>\n",
       "      <th>...</th>\n",
       "      <th>Team 2.dribbles success</th>\n",
       "      <th>Team 2.fouls drawn</th>\n",
       "      <th>Team 2.fouls committed</th>\n",
       "      <th>Team 2.cards yellow</th>\n",
       "      <th>Team 2.cards yellowred</th>\n",
       "      <th>Team 2.cards red</th>\n",
       "      <th>Team 2.penalty won</th>\n",
       "      <th>Team 2.penalty conceded</th>\n",
       "      <th>Team 2.penalty scored</th>\n",
       "      <th>Team 2.penalty missed</th>\n",
       "    </tr>\n",
       "  </thead>\n",
       "  <tbody>\n",
       "    <tr>\n",
       "      <th>0</th>\n",
       "      <td>22</td>\n",
       "      <td>Jacob Bruun Larsen</td>\n",
       "      <td>Jacob</td>\n",
       "      <td>Bruun Larsen</td>\n",
       "      <td>24</td>\n",
       "      <td>19-09-98</td>\n",
       "      <td>Lyngby</td>\n",
       "      <td>Denmark</td>\n",
       "      <td>Denmark</td>\n",
       "      <td>183 cm</td>\n",
       "      <td>...</td>\n",
       "      <td>NaN</td>\n",
       "      <td>NaN</td>\n",
       "      <td>NaN</td>\n",
       "      <td>NaN</td>\n",
       "      <td>NaN</td>\n",
       "      <td>NaN</td>\n",
       "      <td>NaN</td>\n",
       "      <td>NaN</td>\n",
       "      <td>NaN</td>\n",
       "      <td>NaN</td>\n",
       "    </tr>\n",
       "    <tr>\n",
       "      <th>1</th>\n",
       "      <td>416</td>\n",
       "      <td>Sebastian Rudy</td>\n",
       "      <td>Sebastian</td>\n",
       "      <td>Rudy</td>\n",
       "      <td>32</td>\n",
       "      <td>28-02-90</td>\n",
       "      <td>Villingen-Schwenningen</td>\n",
       "      <td>Germany</td>\n",
       "      <td>Germany</td>\n",
       "      <td>180 cm</td>\n",
       "      <td>...</td>\n",
       "      <td>NaN</td>\n",
       "      <td>NaN</td>\n",
       "      <td>NaN</td>\n",
       "      <td>NaN</td>\n",
       "      <td>NaN</td>\n",
       "      <td>NaN</td>\n",
       "      <td>NaN</td>\n",
       "      <td>NaN</td>\n",
       "      <td>NaN</td>\n",
       "      <td>NaN</td>\n",
       "    </tr>\n",
       "    <tr>\n",
       "      <th>2</th>\n",
       "      <td>705</td>\n",
       "      <td>Ermin Bičakčić</td>\n",
       "      <td>Ermin</td>\n",
       "      <td>Bičakčić</td>\n",
       "      <td>32</td>\n",
       "      <td>24-01-90</td>\n",
       "      <td>Zvornik</td>\n",
       "      <td>Bosnia and Herzegovina</td>\n",
       "      <td>Bosnia and Herzegovina</td>\n",
       "      <td>185 cm</td>\n",
       "      <td>...</td>\n",
       "      <td>NaN</td>\n",
       "      <td>NaN</td>\n",
       "      <td>NaN</td>\n",
       "      <td>NaN</td>\n",
       "      <td>NaN</td>\n",
       "      <td>NaN</td>\n",
       "      <td>NaN</td>\n",
       "      <td>NaN</td>\n",
       "      <td>NaN</td>\n",
       "      <td>NaN</td>\n",
       "    </tr>\n",
       "    <tr>\n",
       "      <th>3</th>\n",
       "      <td>708</td>\n",
       "      <td>Benjamin Hübner</td>\n",
       "      <td>Benjamin</td>\n",
       "      <td>Hübner</td>\n",
       "      <td>33</td>\n",
       "      <td>04-07-89</td>\n",
       "      <td>Wiesbaden</td>\n",
       "      <td>Germany</td>\n",
       "      <td>Germany</td>\n",
       "      <td>193 cm</td>\n",
       "      <td>...</td>\n",
       "      <td>NaN</td>\n",
       "      <td>NaN</td>\n",
       "      <td>NaN</td>\n",
       "      <td>NaN</td>\n",
       "      <td>NaN</td>\n",
       "      <td>NaN</td>\n",
       "      <td>NaN</td>\n",
       "      <td>NaN</td>\n",
       "      <td>NaN</td>\n",
       "      <td>NaN</td>\n",
       "    </tr>\n",
       "    <tr>\n",
       "      <th>4</th>\n",
       "      <td>709</td>\n",
       "      <td>Pavel Kadeřábek</td>\n",
       "      <td>Pavel</td>\n",
       "      <td>Kadeřábek</td>\n",
       "      <td>30</td>\n",
       "      <td>25-04-92</td>\n",
       "      <td>Praha</td>\n",
       "      <td>Czech Republic</td>\n",
       "      <td>Czech Republic</td>\n",
       "      <td>182 cm</td>\n",
       "      <td>...</td>\n",
       "      <td>NaN</td>\n",
       "      <td>NaN</td>\n",
       "      <td>NaN</td>\n",
       "      <td>NaN</td>\n",
       "      <td>NaN</td>\n",
       "      <td>NaN</td>\n",
       "      <td>NaN</td>\n",
       "      <td>NaN</td>\n",
       "      <td>NaN</td>\n",
       "      <td>NaN</td>\n",
       "    </tr>\n",
       "    <tr>\n",
       "      <th>...</th>\n",
       "      <td>...</td>\n",
       "      <td>...</td>\n",
       "      <td>...</td>\n",
       "      <td>...</td>\n",
       "      <td>...</td>\n",
       "      <td>...</td>\n",
       "      <td>...</td>\n",
       "      <td>...</td>\n",
       "      <td>...</td>\n",
       "      <td>...</td>\n",
       "      <td>...</td>\n",
       "      <td>...</td>\n",
       "      <td>...</td>\n",
       "      <td>...</td>\n",
       "      <td>...</td>\n",
       "      <td>...</td>\n",
       "      <td>...</td>\n",
       "      <td>...</td>\n",
       "      <td>...</td>\n",
       "      <td>...</td>\n",
       "      <td>...</td>\n",
       "    </tr>\n",
       "    <tr>\n",
       "      <th>512</th>\n",
       "      <td>1095</td>\n",
       "      <td>X. Schlager</td>\n",
       "      <td>Xaver</td>\n",
       "      <td>Schlager</td>\n",
       "      <td>25</td>\n",
       "      <td>28-09-97</td>\n",
       "      <td>Linz</td>\n",
       "      <td>Austria</td>\n",
       "      <td>Austria</td>\n",
       "      <td>174 cm</td>\n",
       "      <td>...</td>\n",
       "      <td>NaN</td>\n",
       "      <td>NaN</td>\n",
       "      <td>NaN</td>\n",
       "      <td>NaN</td>\n",
       "      <td>NaN</td>\n",
       "      <td>NaN</td>\n",
       "      <td>NaN</td>\n",
       "      <td>NaN</td>\n",
       "      <td>NaN</td>\n",
       "      <td>NaN</td>\n",
       "    </tr>\n",
       "    <tr>\n",
       "      <th>513</th>\n",
       "      <td>1302</td>\n",
       "      <td>Jonas Older Wind</td>\n",
       "      <td>Jonas</td>\n",
       "      <td>Older Wind</td>\n",
       "      <td>23</td>\n",
       "      <td>07-02-99</td>\n",
       "      <td>København</td>\n",
       "      <td>Denmark</td>\n",
       "      <td>Denmark</td>\n",
       "      <td>190 cm</td>\n",
       "      <td>...</td>\n",
       "      <td>NaN</td>\n",
       "      <td>NaN</td>\n",
       "      <td>NaN</td>\n",
       "      <td>NaN</td>\n",
       "      <td>NaN</td>\n",
       "      <td>NaN</td>\n",
       "      <td>NaN</td>\n",
       "      <td>NaN</td>\n",
       "      <td>NaN</td>\n",
       "      <td>NaN</td>\n",
       "    </tr>\n",
       "    <tr>\n",
       "      <th>514</th>\n",
       "      <td>2809</td>\n",
       "      <td>R. Steffen</td>\n",
       "      <td>Renato</td>\n",
       "      <td>Steffen</td>\n",
       "      <td>31</td>\n",
       "      <td>03-11-91</td>\n",
       "      <td>Aarau</td>\n",
       "      <td>Switzerland</td>\n",
       "      <td>Switzerland</td>\n",
       "      <td>170 cm</td>\n",
       "      <td>...</td>\n",
       "      <td>NaN</td>\n",
       "      <td>NaN</td>\n",
       "      <td>NaN</td>\n",
       "      <td>NaN</td>\n",
       "      <td>NaN</td>\n",
       "      <td>NaN</td>\n",
       "      <td>NaN</td>\n",
       "      <td>NaN</td>\n",
       "      <td>NaN</td>\n",
       "      <td>NaN</td>\n",
       "    </tr>\n",
       "    <tr>\n",
       "      <th>515</th>\n",
       "      <td>2918</td>\n",
       "      <td>K. Casteels</td>\n",
       "      <td>Koen</td>\n",
       "      <td>Casteels</td>\n",
       "      <td>30</td>\n",
       "      <td>25-06-92</td>\n",
       "      <td>Bonheiden</td>\n",
       "      <td>Belgium</td>\n",
       "      <td>Belgium</td>\n",
       "      <td>197 cm</td>\n",
       "      <td>...</td>\n",
       "      <td>NaN</td>\n",
       "      <td>NaN</td>\n",
       "      <td>NaN</td>\n",
       "      <td>NaN</td>\n",
       "      <td>NaN</td>\n",
       "      <td>NaN</td>\n",
       "      <td>NaN</td>\n",
       "      <td>NaN</td>\n",
       "      <td>NaN</td>\n",
       "      <td>NaN</td>\n",
       "    </tr>\n",
       "    <tr>\n",
       "      <th>516</th>\n",
       "      <td>19461</td>\n",
       "      <td>Lukas Okechukwu Nmecha</td>\n",
       "      <td>Lukas Okechukwu</td>\n",
       "      <td>Nmecha</td>\n",
       "      <td>24</td>\n",
       "      <td>14-12-98</td>\n",
       "      <td>Hamburg</td>\n",
       "      <td>Germany</td>\n",
       "      <td>Germany</td>\n",
       "      <td>185 cm</td>\n",
       "      <td>...</td>\n",
       "      <td>NaN</td>\n",
       "      <td>NaN</td>\n",
       "      <td>NaN</td>\n",
       "      <td>NaN</td>\n",
       "      <td>NaN</td>\n",
       "      <td>NaN</td>\n",
       "      <td>NaN</td>\n",
       "      <td>NaN</td>\n",
       "      <td>NaN</td>\n",
       "      <td>NaN</td>\n",
       "    </tr>\n",
       "  </tbody>\n",
       "</table>\n",
       "<p>517 rows × 75 columns</p>\n",
       "</div>"
      ],
      "text/plain": [
       "     player id                    name        firstname      lastname age  \\\n",
       "0           22      Jacob Bruun Larsen            Jacob  Bruun Larsen  24   \n",
       "1          416          Sebastian Rudy        Sebastian          Rudy  32   \n",
       "2          705          Ermin Bičakčić            Ermin      Bičakčić  32   \n",
       "3          708         Benjamin Hübner         Benjamin        Hübner  33   \n",
       "4          709         Pavel Kadeřábek            Pavel     Kadeřábek  30   \n",
       "..         ...                     ...              ...           ...  ..   \n",
       "512       1095             X. Schlager            Xaver      Schlager  25   \n",
       "513       1302        Jonas Older Wind            Jonas    Older Wind  23   \n",
       "514       2809              R. Steffen           Renato       Steffen  31   \n",
       "515       2918             K. Casteels             Koen      Casteels  30   \n",
       "516      19461  Lukas Okechukwu Nmecha  Lukas Okechukwu        Nmecha  24   \n",
       "\n",
       "    birth date             birth place           birth country  \\\n",
       "0     19-09-98                  Lyngby                 Denmark   \n",
       "1     28-02-90  Villingen-Schwenningen                 Germany   \n",
       "2     24-01-90                 Zvornik  Bosnia and Herzegovina   \n",
       "3     04-07-89               Wiesbaden                 Germany   \n",
       "4     25-04-92                   Praha          Czech Republic   \n",
       "..         ...                     ...                     ...   \n",
       "512   28-09-97                    Linz                 Austria   \n",
       "513   07-02-99               København                 Denmark   \n",
       "514   03-11-91                   Aarau             Switzerland   \n",
       "515   25-06-92               Bonheiden                 Belgium   \n",
       "516   14-12-98                 Hamburg                 Germany   \n",
       "\n",
       "                nationality  height  ... Team 2.dribbles success  \\\n",
       "0                   Denmark  183 cm  ...                     NaN   \n",
       "1                   Germany  180 cm  ...                     NaN   \n",
       "2    Bosnia and Herzegovina  185 cm  ...                     NaN   \n",
       "3                   Germany  193 cm  ...                     NaN   \n",
       "4            Czech Republic  182 cm  ...                     NaN   \n",
       "..                      ...     ...  ...                     ...   \n",
       "512                 Austria  174 cm  ...                     NaN   \n",
       "513                 Denmark  190 cm  ...                     NaN   \n",
       "514             Switzerland  170 cm  ...                     NaN   \n",
       "515                 Belgium  197 cm  ...                     NaN   \n",
       "516                 Germany  185 cm  ...                     NaN   \n",
       "\n",
       "    Team 2.fouls drawn  Team 2.fouls committed Team 2.cards yellow  \\\n",
       "0                  NaN                     NaN                 NaN   \n",
       "1                  NaN                     NaN                 NaN   \n",
       "2                  NaN                     NaN                 NaN   \n",
       "3                  NaN                     NaN                 NaN   \n",
       "4                  NaN                     NaN                 NaN   \n",
       "..                 ...                     ...                 ...   \n",
       "512                NaN                     NaN                 NaN   \n",
       "513                NaN                     NaN                 NaN   \n",
       "514                NaN                     NaN                 NaN   \n",
       "515                NaN                     NaN                 NaN   \n",
       "516                NaN                     NaN                 NaN   \n",
       "\n",
       "     Team 2.cards yellowred  Team 2.cards red  Team 2.penalty won  \\\n",
       "0                       NaN               NaN                 NaN   \n",
       "1                       NaN               NaN                 NaN   \n",
       "2                       NaN               NaN                 NaN   \n",
       "3                       NaN               NaN                 NaN   \n",
       "4                       NaN               NaN                 NaN   \n",
       "..                      ...               ...                 ...   \n",
       "512                     NaN               NaN                 NaN   \n",
       "513                     NaN               NaN                 NaN   \n",
       "514                     NaN               NaN                 NaN   \n",
       "515                     NaN               NaN                 NaN   \n",
       "516                     NaN               NaN                 NaN   \n",
       "\n",
       "     Team 2.penalty conceded  Team 2.penalty scored  Team 2.penalty missed  \n",
       "0                        NaN                    NaN                    NaN  \n",
       "1                        NaN                    NaN                    NaN  \n",
       "2                        NaN                    NaN                    NaN  \n",
       "3                        NaN                    NaN                    NaN  \n",
       "4                        NaN                    NaN                    NaN  \n",
       "..                       ...                    ...                    ...  \n",
       "512                      NaN                    NaN                    NaN  \n",
       "513                      NaN                    NaN                    NaN  \n",
       "514                      NaN                    NaN                    NaN  \n",
       "515                      NaN                    NaN                    NaN  \n",
       "516                      NaN                    NaN                    NaN  \n",
       "\n",
       "[517 rows x 75 columns]"
      ]
     },
     "execution_count": 12,
     "metadata": {},
     "output_type": "execute_result"
    }
   ],
   "source": [
    "#fill null values with value 0 for certain columns\n",
    "df.fillna({'total saves':0, 'penalty saved':0})"
   ]
  },
  {
   "cell_type": "markdown",
   "metadata": {},
   "source": [
    "The columns **total saves** and **penalty saved** only applies to Goalkeepers. That is why I filled the other players (defender, midfielder, attacker) with the value of 0 since they don't make any saves or penalty saves."
   ]
  },
  {
   "cell_type": "code",
   "execution_count": 13,
   "metadata": {},
   "outputs": [
    {
     "data": {
      "text/plain": [
       "10"
      ]
     },
     "execution_count": 13,
     "metadata": {},
     "output_type": "execute_result"
    }
   ],
   "source": [
    "#counting duplicates of players\n",
    "df['player id'].duplicated().sum()"
   ]
  },
  {
   "cell_type": "code",
   "execution_count": 14,
   "metadata": {},
   "outputs": [
    {
     "data": {
      "text/html": [
       "<div>\n",
       "<style scoped>\n",
       "    .dataframe tbody tr th:only-of-type {\n",
       "        vertical-align: middle;\n",
       "    }\n",
       "\n",
       "    .dataframe tbody tr th {\n",
       "        vertical-align: top;\n",
       "    }\n",
       "\n",
       "    .dataframe thead th {\n",
       "        text-align: right;\n",
       "    }\n",
       "</style>\n",
       "<table border=\"1\" class=\"dataframe\">\n",
       "  <thead>\n",
       "    <tr style=\"text-align: right;\">\n",
       "      <th></th>\n",
       "      <th>player id</th>\n",
       "      <th>name</th>\n",
       "      <th>team name</th>\n",
       "      <th>Team 2.team name</th>\n",
       "    </tr>\n",
       "  </thead>\n",
       "  <tbody>\n",
       "    <tr>\n",
       "      <th>140</th>\n",
       "      <td>984</td>\n",
       "      <td>J. Brandt</td>\n",
       "      <td>Borussia Dortmund</td>\n",
       "      <td>NaN</td>\n",
       "    </tr>\n",
       "    <tr>\n",
       "      <th>142</th>\n",
       "      <td>161919</td>\n",
       "      <td>Y. Moukoko</td>\n",
       "      <td>Borussia Dortmund</td>\n",
       "      <td>NaN</td>\n",
       "    </tr>\n",
       "    <tr>\n",
       "      <th>191</th>\n",
       "      <td>25455</td>\n",
       "      <td>A. Barkok</td>\n",
       "      <td>Eintracht Frankfurt</td>\n",
       "      <td>NaN</td>\n",
       "    </tr>\n",
       "    <tr>\n",
       "      <th>278</th>\n",
       "      <td>108474</td>\n",
       "      <td>L. Kilian</td>\n",
       "      <td>FSV Mainz 05</td>\n",
       "      <td>NaN</td>\n",
       "    </tr>\n",
       "    <tr>\n",
       "      <th>414</th>\n",
       "      <td>26237</td>\n",
       "      <td>Dominique Heintz</td>\n",
       "      <td>Union Berlin</td>\n",
       "      <td>SC Freiburg</td>\n",
       "    </tr>\n",
       "    <tr>\n",
       "      <th>422</th>\n",
       "      <td>24839</td>\n",
       "      <td>Marvin Friedrich</td>\n",
       "      <td>Union Berlin</td>\n",
       "      <td>NaN</td>\n",
       "    </tr>\n",
       "    <tr>\n",
       "      <th>423</th>\n",
       "      <td>24905</td>\n",
       "      <td>S. Griesbeck</td>\n",
       "      <td>Union Berlin</td>\n",
       "      <td>NaN</td>\n",
       "    </tr>\n",
       "    <tr>\n",
       "      <th>459</th>\n",
       "      <td>26301</td>\n",
       "      <td>M. Kempf</td>\n",
       "      <td>VfB Stuttgart</td>\n",
       "      <td>NaN</td>\n",
       "    </tr>\n",
       "    <tr>\n",
       "      <th>496</th>\n",
       "      <td>25329</td>\n",
       "      <td>Max Bennet Kruse</td>\n",
       "      <td>VfL Wolfsburg</td>\n",
       "      <td>Union Berlin</td>\n",
       "    </tr>\n",
       "    <tr>\n",
       "      <th>505</th>\n",
       "      <td>25458</td>\n",
       "      <td>Dodi Lukébakio</td>\n",
       "      <td>VfL Wolfsburg</td>\n",
       "      <td>Hertha Berlin</td>\n",
       "    </tr>\n",
       "  </tbody>\n",
       "</table>\n",
       "</div>"
      ],
      "text/plain": [
       "     player id              name            team name Team 2.team name\n",
       "140        984         J. Brandt    Borussia Dortmund              NaN\n",
       "142     161919        Y. Moukoko    Borussia Dortmund              NaN\n",
       "191      25455         A. Barkok  Eintracht Frankfurt              NaN\n",
       "278     108474         L. Kilian         FSV Mainz 05              NaN\n",
       "414      26237  Dominique Heintz         Union Berlin      SC Freiburg\n",
       "422      24839  Marvin Friedrich         Union Berlin              NaN\n",
       "423      24905      S. Griesbeck         Union Berlin              NaN\n",
       "459      26301          M. Kempf        VfB Stuttgart              NaN\n",
       "496      25329  Max Bennet Kruse        VfL Wolfsburg     Union Berlin\n",
       "505      25458    Dodi Lukébakio        VfL Wolfsburg    Hertha Berlin"
      ]
     },
     "execution_count": 14,
     "metadata": {},
     "output_type": "execute_result"
    }
   ],
   "source": [
    "#extracting duplicates of players\n",
    "df.loc[df['player id'].duplicated(),['player id','name','team name','Team 2.team name']]"
   ]
  },
  {
   "cell_type": "code",
   "execution_count": 15,
   "metadata": {},
   "outputs": [],
   "source": [
    "#dropping rows 278,422,423,459\n",
    "df.drop([278,422,423,459], axis=0,inplace=True)"
   ]
  },
  {
   "cell_type": "markdown",
   "metadata": {},
   "source": [
    "As I wrote in the introduction, I had to manually update and input some values into some columns in Excel. I therefore know that the 4 players concerned played for 2 different teams and that they are records of that in the table. Yet in the duplicates table above, the values for the column \"Team2.team name\" shows null for the 4 players. That's why I deleted the 4 rows."
   ]
  },
  {
   "cell_type": "markdown",
   "metadata": {},
   "source": [
    "Players on rows **414,496,505** played for two teams as you can see in the duplicated table above. I am going to keep these rows and delete their duplicates rows which show null values in the **\"Team2. team name column\"**."
   ]
  },
  {
   "cell_type": "code",
   "execution_count": 16,
   "metadata": {},
   "outputs": [
    {
     "data": {
      "text/html": [
       "<div>\n",
       "<style scoped>\n",
       "    .dataframe tbody tr th:only-of-type {\n",
       "        vertical-align: middle;\n",
       "    }\n",
       "\n",
       "    .dataframe tbody tr th {\n",
       "        vertical-align: top;\n",
       "    }\n",
       "\n",
       "    .dataframe thead th {\n",
       "        text-align: right;\n",
       "    }\n",
       "</style>\n",
       "<table border=\"1\" class=\"dataframe\">\n",
       "  <thead>\n",
       "    <tr style=\"text-align: right;\">\n",
       "      <th></th>\n",
       "      <th>player id</th>\n",
       "      <th>name</th>\n",
       "      <th>team name</th>\n",
       "      <th>Team 2.team name</th>\n",
       "    </tr>\n",
       "  </thead>\n",
       "  <tbody>\n",
       "    <tr>\n",
       "      <th>309</th>\n",
       "      <td>25458</td>\n",
       "      <td>D. Lukébakio</td>\n",
       "      <td>Hertha Berlin</td>\n",
       "      <td>NaN</td>\n",
       "    </tr>\n",
       "    <tr>\n",
       "      <th>369</th>\n",
       "      <td>26237</td>\n",
       "      <td>D. Heintz</td>\n",
       "      <td>SC Freiburg</td>\n",
       "      <td>NaN</td>\n",
       "    </tr>\n",
       "    <tr>\n",
       "      <th>414</th>\n",
       "      <td>26237</td>\n",
       "      <td>Dominique Heintz</td>\n",
       "      <td>Union Berlin</td>\n",
       "      <td>SC Freiburg</td>\n",
       "    </tr>\n",
       "    <tr>\n",
       "      <th>424</th>\n",
       "      <td>25329</td>\n",
       "      <td>M. Kruse</td>\n",
       "      <td>Union Berlin</td>\n",
       "      <td>NaN</td>\n",
       "    </tr>\n",
       "    <tr>\n",
       "      <th>496</th>\n",
       "      <td>25329</td>\n",
       "      <td>Max Bennet Kruse</td>\n",
       "      <td>VfL Wolfsburg</td>\n",
       "      <td>Union Berlin</td>\n",
       "    </tr>\n",
       "    <tr>\n",
       "      <th>505</th>\n",
       "      <td>25458</td>\n",
       "      <td>Dodi Lukébakio</td>\n",
       "      <td>VfL Wolfsburg</td>\n",
       "      <td>Hertha Berlin</td>\n",
       "    </tr>\n",
       "  </tbody>\n",
       "</table>\n",
       "</div>"
      ],
      "text/plain": [
       "     player id              name      team name Team 2.team name\n",
       "309      25458      D. Lukébakio  Hertha Berlin              NaN\n",
       "369      26237         D. Heintz    SC Freiburg              NaN\n",
       "414      26237  Dominique Heintz   Union Berlin      SC Freiburg\n",
       "424      25329          M. Kruse   Union Berlin              NaN\n",
       "496      25329  Max Bennet Kruse  VfL Wolfsburg     Union Berlin\n",
       "505      25458    Dodi Lukébakio  VfL Wolfsburg    Hertha Berlin"
      ]
     },
     "execution_count": 16,
     "metadata": {},
     "output_type": "execute_result"
    }
   ],
   "source": [
    "#Select players from rows 414,496,505 and their duplicates\n",
    "df.loc[(df['player id']==26237) | (df['player id']==25329) | (df['player id']==25458), ['player id','name','team name','Team 2.team name']]"
   ]
  },
  {
   "cell_type": "code",
   "execution_count": 17,
   "metadata": {},
   "outputs": [],
   "source": [
    "#dropping rows 309,369 & 424\n",
    "df.drop([309,369,424], axis=0,inplace=True)"
   ]
  },
  {
   "cell_type": "code",
   "execution_count": 18,
   "metadata": {},
   "outputs": [
    {
     "data": {
      "text/html": [
       "<div>\n",
       "<style scoped>\n",
       "    .dataframe tbody tr th:only-of-type {\n",
       "        vertical-align: middle;\n",
       "    }\n",
       "\n",
       "    .dataframe tbody tr th {\n",
       "        vertical-align: top;\n",
       "    }\n",
       "\n",
       "    .dataframe thead th {\n",
       "        text-align: right;\n",
       "    }\n",
       "</style>\n",
       "<table border=\"1\" class=\"dataframe\">\n",
       "  <thead>\n",
       "    <tr style=\"text-align: right;\">\n",
       "      <th></th>\n",
       "      <th>player id</th>\n",
       "      <th>name</th>\n",
       "      <th>firstname</th>\n",
       "      <th>lastname</th>\n",
       "      <th>age</th>\n",
       "      <th>birth date</th>\n",
       "      <th>birth place</th>\n",
       "      <th>birth country</th>\n",
       "      <th>nationality</th>\n",
       "      <th>height</th>\n",
       "      <th>...</th>\n",
       "      <th>Team 2.dribbles success</th>\n",
       "      <th>Team 2.fouls drawn</th>\n",
       "      <th>Team 2.fouls committed</th>\n",
       "      <th>Team 2.cards yellow</th>\n",
       "      <th>Team 2.cards yellowred</th>\n",
       "      <th>Team 2.cards red</th>\n",
       "      <th>Team 2.penalty won</th>\n",
       "      <th>Team 2.penalty conceded</th>\n",
       "      <th>Team 2.penalty scored</th>\n",
       "      <th>Team 2.penalty missed</th>\n",
       "    </tr>\n",
       "  </thead>\n",
       "  <tbody>\n",
       "    <tr>\n",
       "      <th>140</th>\n",
       "      <td>984</td>\n",
       "      <td>J. Brandt</td>\n",
       "      <td>Julian</td>\n",
       "      <td>Brandt</td>\n",
       "      <td>26</td>\n",
       "      <td>02-05-96</td>\n",
       "      <td>Bremen</td>\n",
       "      <td>Germany</td>\n",
       "      <td>Germany</td>\n",
       "      <td>185 cm</td>\n",
       "      <td>...</td>\n",
       "      <td>NaN</td>\n",
       "      <td>NaN</td>\n",
       "      <td>NaN</td>\n",
       "      <td>NaN</td>\n",
       "      <td>NaN</td>\n",
       "      <td>NaN</td>\n",
       "      <td>NaN</td>\n",
       "      <td>NaN</td>\n",
       "      <td>NaN</td>\n",
       "      <td>NaN</td>\n",
       "    </tr>\n",
       "    <tr>\n",
       "      <th>142</th>\n",
       "      <td>161919</td>\n",
       "      <td>Y. Moukoko</td>\n",
       "      <td>Youssoufa</td>\n",
       "      <td>Moukoko</td>\n",
       "      <td>18</td>\n",
       "      <td>20-11-04</td>\n",
       "      <td>Yaoundé</td>\n",
       "      <td>Cameroon</td>\n",
       "      <td>Germany</td>\n",
       "      <td>179 cm</td>\n",
       "      <td>...</td>\n",
       "      <td>NaN</td>\n",
       "      <td>NaN</td>\n",
       "      <td>NaN</td>\n",
       "      <td>NaN</td>\n",
       "      <td>NaN</td>\n",
       "      <td>NaN</td>\n",
       "      <td>NaN</td>\n",
       "      <td>NaN</td>\n",
       "      <td>NaN</td>\n",
       "      <td>NaN</td>\n",
       "    </tr>\n",
       "    <tr>\n",
       "      <th>191</th>\n",
       "      <td>25455</td>\n",
       "      <td>A. Barkok</td>\n",
       "      <td>Aymen</td>\n",
       "      <td>Barkok</td>\n",
       "      <td>24</td>\n",
       "      <td>21-05-98</td>\n",
       "      <td>Frankfurt am Main</td>\n",
       "      <td>Germany</td>\n",
       "      <td>Morocco</td>\n",
       "      <td>189 cm</td>\n",
       "      <td>...</td>\n",
       "      <td>NaN</td>\n",
       "      <td>NaN</td>\n",
       "      <td>NaN</td>\n",
       "      <td>NaN</td>\n",
       "      <td>NaN</td>\n",
       "      <td>NaN</td>\n",
       "      <td>NaN</td>\n",
       "      <td>NaN</td>\n",
       "      <td>NaN</td>\n",
       "      <td>NaN</td>\n",
       "    </tr>\n",
       "  </tbody>\n",
       "</table>\n",
       "<p>3 rows × 75 columns</p>\n",
       "</div>"
      ],
      "text/plain": [
       "     player id        name  firstname lastname age birth date  \\\n",
       "140        984   J. Brandt     Julian   Brandt  26   02-05-96   \n",
       "142     161919  Y. Moukoko  Youssoufa  Moukoko  18   20-11-04   \n",
       "191      25455   A. Barkok      Aymen   Barkok  24   21-05-98   \n",
       "\n",
       "           birth place birth country nationality  height  ...  \\\n",
       "140             Bremen       Germany     Germany  185 cm  ...   \n",
       "142            Yaoundé      Cameroon     Germany  179 cm  ...   \n",
       "191  Frankfurt am Main       Germany     Morocco  189 cm  ...   \n",
       "\n",
       "    Team 2.dribbles success Team 2.fouls drawn  Team 2.fouls committed  \\\n",
       "140                     NaN                NaN                     NaN   \n",
       "142                     NaN                NaN                     NaN   \n",
       "191                     NaN                NaN                     NaN   \n",
       "\n",
       "    Team 2.cards yellow  Team 2.cards yellowred  Team 2.cards red  \\\n",
       "140                 NaN                     NaN               NaN   \n",
       "142                 NaN                     NaN               NaN   \n",
       "191                 NaN                     NaN               NaN   \n",
       "\n",
       "     Team 2.penalty won  Team 2.penalty conceded  Team 2.penalty scored  \\\n",
       "140                 NaN                      NaN                    NaN   \n",
       "142                 NaN                      NaN                    NaN   \n",
       "191                 NaN                      NaN                    NaN   \n",
       "\n",
       "     Team 2.penalty missed  \n",
       "140                    NaN  \n",
       "142                    NaN  \n",
       "191                    NaN  \n",
       "\n",
       "[3 rows x 75 columns]"
      ]
     },
     "execution_count": 18,
     "metadata": {},
     "output_type": "execute_result"
    }
   ],
   "source": [
    "#showing the remaining duplicates\n",
    "df.loc[df['player id'].duplicated()]"
   ]
  },
  {
   "cell_type": "markdown",
   "metadata": {},
   "source": [
    "For the rows above and their duplicates, there can be differences in the values for some columns.It's always better to check first if the duplicates are identical (same values for columns) or distinct. "
   ]
  },
  {
   "cell_type": "code",
   "execution_count": 19,
   "metadata": {
    "scrolled": true
   },
   "outputs": [
    {
     "data": {
      "text/html": [
       "<div>\n",
       "<style scoped>\n",
       "    .dataframe tbody tr th:only-of-type {\n",
       "        vertical-align: middle;\n",
       "    }\n",
       "\n",
       "    .dataframe tbody tr th {\n",
       "        vertical-align: top;\n",
       "    }\n",
       "\n",
       "    .dataframe thead th {\n",
       "        text-align: right;\n",
       "    }\n",
       "</style>\n",
       "<table border=\"1\" class=\"dataframe\">\n",
       "  <thead>\n",
       "    <tr style=\"text-align: right;\">\n",
       "      <th></th>\n",
       "      <th>player id</th>\n",
       "      <th>name</th>\n",
       "      <th>firstname</th>\n",
       "      <th>lastname</th>\n",
       "      <th>age</th>\n",
       "      <th>birth date</th>\n",
       "      <th>birth place</th>\n",
       "      <th>birth country</th>\n",
       "      <th>nationality</th>\n",
       "      <th>height</th>\n",
       "      <th>...</th>\n",
       "      <th>Team 2.dribbles success</th>\n",
       "      <th>Team 2.fouls drawn</th>\n",
       "      <th>Team 2.fouls committed</th>\n",
       "      <th>Team 2.cards yellow</th>\n",
       "      <th>Team 2.cards yellowred</th>\n",
       "      <th>Team 2.cards red</th>\n",
       "      <th>Team 2.penalty won</th>\n",
       "      <th>Team 2.penalty conceded</th>\n",
       "      <th>Team 2.penalty scored</th>\n",
       "      <th>Team 2.penalty missed</th>\n",
       "    </tr>\n",
       "  </thead>\n",
       "  <tbody>\n",
       "    <tr>\n",
       "      <th>140</th>\n",
       "      <td>984</td>\n",
       "      <td>J. Brandt</td>\n",
       "      <td>Julian</td>\n",
       "      <td>Brandt</td>\n",
       "      <td>26</td>\n",
       "      <td>02-05-96</td>\n",
       "      <td>Bremen</td>\n",
       "      <td>Germany</td>\n",
       "      <td>Germany</td>\n",
       "      <td>185 cm</td>\n",
       "      <td>...</td>\n",
       "      <td>NaN</td>\n",
       "      <td>NaN</td>\n",
       "      <td>NaN</td>\n",
       "      <td>NaN</td>\n",
       "      <td>NaN</td>\n",
       "      <td>NaN</td>\n",
       "      <td>NaN</td>\n",
       "      <td>NaN</td>\n",
       "      <td>NaN</td>\n",
       "      <td>NaN</td>\n",
       "    </tr>\n",
       "    <tr>\n",
       "      <th>191</th>\n",
       "      <td>25455</td>\n",
       "      <td>A. Barkok</td>\n",
       "      <td>Aymen</td>\n",
       "      <td>Barkok</td>\n",
       "      <td>24</td>\n",
       "      <td>21-05-98</td>\n",
       "      <td>Frankfurt am Main</td>\n",
       "      <td>Germany</td>\n",
       "      <td>Morocco</td>\n",
       "      <td>189 cm</td>\n",
       "      <td>...</td>\n",
       "      <td>NaN</td>\n",
       "      <td>NaN</td>\n",
       "      <td>NaN</td>\n",
       "      <td>NaN</td>\n",
       "      <td>NaN</td>\n",
       "      <td>NaN</td>\n",
       "      <td>NaN</td>\n",
       "      <td>NaN</td>\n",
       "      <td>NaN</td>\n",
       "      <td>NaN</td>\n",
       "    </tr>\n",
       "  </tbody>\n",
       "</table>\n",
       "<p>2 rows × 75 columns</p>\n",
       "</div>"
      ],
      "text/plain": [
       "     player id       name firstname lastname age birth date  \\\n",
       "140        984  J. Brandt    Julian   Brandt  26   02-05-96   \n",
       "191      25455  A. Barkok     Aymen   Barkok  24   21-05-98   \n",
       "\n",
       "           birth place birth country nationality  height  ...  \\\n",
       "140             Bremen       Germany     Germany  185 cm  ...   \n",
       "191  Frankfurt am Main       Germany     Morocco  189 cm  ...   \n",
       "\n",
       "    Team 2.dribbles success Team 2.fouls drawn  Team 2.fouls committed  \\\n",
       "140                     NaN                NaN                     NaN   \n",
       "191                     NaN                NaN                     NaN   \n",
       "\n",
       "    Team 2.cards yellow  Team 2.cards yellowred  Team 2.cards red  \\\n",
       "140                 NaN                     NaN               NaN   \n",
       "191                 NaN                     NaN               NaN   \n",
       "\n",
       "     Team 2.penalty won  Team 2.penalty conceded  Team 2.penalty scored  \\\n",
       "140                 NaN                      NaN                    NaN   \n",
       "191                 NaN                      NaN                    NaN   \n",
       "\n",
       "     Team 2.penalty missed  \n",
       "140                    NaN  \n",
       "191                    NaN  \n",
       "\n",
       "[2 rows x 75 columns]"
      ]
     },
     "execution_count": 19,
     "metadata": {},
     "output_type": "execute_result"
    }
   ],
   "source": [
    "#checking for duplicates that are identical\n",
    "#verifying duplicates based on all columns instead of one\n",
    "df.loc[df.duplicated()]"
   ]
  },
  {
   "cell_type": "markdown",
   "metadata": {},
   "source": [
    "The players with ids **984** and **25455** have each two rows in the dataset with identical values for each of the columns. I'll therefore drop the two rows above. In contrast, the player id **161919** (Y.Moukoko) has two distinct rows that I will compare to determine which one I will be keeping. "
   ]
  },
  {
   "cell_type": "code",
   "execution_count": 20,
   "metadata": {},
   "outputs": [],
   "source": [
    "#dropping rows 140 and 191\n",
    "df.drop([140,191], axis=0,inplace=True)"
   ]
  },
  {
   "cell_type": "code",
   "execution_count": 21,
   "metadata": {},
   "outputs": [
    {
     "data": {
      "text/html": [
       "<div>\n",
       "<style scoped>\n",
       "    .dataframe tbody tr th:only-of-type {\n",
       "        vertical-align: middle;\n",
       "    }\n",
       "\n",
       "    .dataframe tbody tr th {\n",
       "        vertical-align: top;\n",
       "    }\n",
       "\n",
       "    .dataframe thead th {\n",
       "        text-align: right;\n",
       "    }\n",
       "</style>\n",
       "<table border=\"1\" class=\"dataframe\">\n",
       "  <thead>\n",
       "    <tr style=\"text-align: right;\">\n",
       "      <th></th>\n",
       "      <th>player id</th>\n",
       "      <th>name</th>\n",
       "      <th>firstname</th>\n",
       "      <th>lastname</th>\n",
       "      <th>age</th>\n",
       "      <th>birth date</th>\n",
       "      <th>birth place</th>\n",
       "      <th>birth country</th>\n",
       "      <th>nationality</th>\n",
       "      <th>height</th>\n",
       "      <th>...</th>\n",
       "      <th>Team 2.dribbles success</th>\n",
       "      <th>Team 2.fouls drawn</th>\n",
       "      <th>Team 2.fouls committed</th>\n",
       "      <th>Team 2.cards yellow</th>\n",
       "      <th>Team 2.cards yellowred</th>\n",
       "      <th>Team 2.cards red</th>\n",
       "      <th>Team 2.penalty won</th>\n",
       "      <th>Team 2.penalty conceded</th>\n",
       "      <th>Team 2.penalty scored</th>\n",
       "      <th>Team 2.penalty missed</th>\n",
       "    </tr>\n",
       "  </thead>\n",
       "  <tbody>\n",
       "    <tr>\n",
       "      <th>128</th>\n",
       "      <td>161919</td>\n",
       "      <td>Youssoufa Moukoko</td>\n",
       "      <td>Youssoufa</td>\n",
       "      <td>Moukoko</td>\n",
       "      <td>18</td>\n",
       "      <td>20-11-04</td>\n",
       "      <td>Yaoundé</td>\n",
       "      <td>Cameroon</td>\n",
       "      <td>Germany</td>\n",
       "      <td>179 cm</td>\n",
       "      <td>...</td>\n",
       "      <td>NaN</td>\n",
       "      <td>NaN</td>\n",
       "      <td>NaN</td>\n",
       "      <td>NaN</td>\n",
       "      <td>NaN</td>\n",
       "      <td>NaN</td>\n",
       "      <td>NaN</td>\n",
       "      <td>NaN</td>\n",
       "      <td>NaN</td>\n",
       "      <td>NaN</td>\n",
       "    </tr>\n",
       "    <tr>\n",
       "      <th>142</th>\n",
       "      <td>161919</td>\n",
       "      <td>Y. Moukoko</td>\n",
       "      <td>Youssoufa</td>\n",
       "      <td>Moukoko</td>\n",
       "      <td>18</td>\n",
       "      <td>20-11-04</td>\n",
       "      <td>Yaoundé</td>\n",
       "      <td>Cameroon</td>\n",
       "      <td>Germany</td>\n",
       "      <td>179 cm</td>\n",
       "      <td>...</td>\n",
       "      <td>NaN</td>\n",
       "      <td>NaN</td>\n",
       "      <td>NaN</td>\n",
       "      <td>NaN</td>\n",
       "      <td>NaN</td>\n",
       "      <td>NaN</td>\n",
       "      <td>NaN</td>\n",
       "      <td>NaN</td>\n",
       "      <td>NaN</td>\n",
       "      <td>NaN</td>\n",
       "    </tr>\n",
       "  </tbody>\n",
       "</table>\n",
       "<p>2 rows × 75 columns</p>\n",
       "</div>"
      ],
      "text/plain": [
       "     player id               name  firstname lastname age birth date  \\\n",
       "128     161919  Youssoufa Moukoko  Youssoufa  Moukoko  18   20-11-04   \n",
       "142     161919         Y. Moukoko  Youssoufa  Moukoko  18   20-11-04   \n",
       "\n",
       "    birth place birth country nationality  height  ...  \\\n",
       "128     Yaoundé      Cameroon     Germany  179 cm  ...   \n",
       "142     Yaoundé      Cameroon     Germany  179 cm  ...   \n",
       "\n",
       "    Team 2.dribbles success Team 2.fouls drawn  Team 2.fouls committed  \\\n",
       "128                     NaN                NaN                     NaN   \n",
       "142                     NaN                NaN                     NaN   \n",
       "\n",
       "    Team 2.cards yellow  Team 2.cards yellowred  Team 2.cards red  \\\n",
       "128                 NaN                     NaN               NaN   \n",
       "142                 NaN                     NaN               NaN   \n",
       "\n",
       "     Team 2.penalty won  Team 2.penalty conceded  Team 2.penalty scored  \\\n",
       "128                 NaN                      NaN                    NaN   \n",
       "142                 NaN                      NaN                    NaN   \n",
       "\n",
       "     Team 2.penalty missed  \n",
       "128                    NaN  \n",
       "142                    NaN  \n",
       "\n",
       "[2 rows x 75 columns]"
      ]
     },
     "execution_count": 21,
     "metadata": {},
     "output_type": "execute_result"
    }
   ],
   "source": [
    "df.loc[df['player id']== 161919]"
   ]
  },
  {
   "cell_type": "markdown",
   "metadata": {},
   "source": [
    "There are little differences in values between the two rows for columns such as name, shots total, total passes, duels total, player rating. I have looked at passes and shots for the player concerned on WhoScored, a statistics's website and the values on the second row (**142**) matched the values on the website. As a result, I'll get rid of the first occurence of the player(**128**)."
   ]
  },
  {
   "cell_type": "code",
   "execution_count": 22,
   "metadata": {},
   "outputs": [],
   "source": [
    "#keeping last occurence of player 16919 using keep argument, which at the same time deletes the other occurence of player\n",
    "df.drop_duplicates(['player id'],keep='last',inplace=True)"
   ]
  },
  {
   "cell_type": "code",
   "execution_count": 23,
   "metadata": {},
   "outputs": [
    {
     "data": {
      "text/plain": [
       "player id                     int64\n",
       "name                         object\n",
       "firstname                    object\n",
       "lastname                     object\n",
       "age                          object\n",
       "birth date                   object\n",
       "birth place                  object\n",
       "birth country                object\n",
       "nationality                  object\n",
       "height                       object\n",
       "weight                       object\n",
       "position                     object\n",
       "team id                       int64\n",
       "team name                    object\n",
       "appearances                   int64\n",
       "Starter                       int64\n",
       "bench                         int64\n",
       "substituted in                int64\n",
       "substituted out               int64\n",
       "total minutes played          int64\n",
       "player rating                object\n",
       "shots total                 float64\n",
       "shots on target             float64\n",
       "total goals                   int64\n",
       "goals conceded                int64\n",
       "assists                     float64\n",
       "total saves                 float64\n",
       "total passes                float64\n",
       "successful tackles          float64\n",
       "blocks                      float64\n",
       "interceptions               float64\n",
       "duels total                 float64\n",
       "duels won                   float64\n",
       "dribbles attempts           float64\n",
       "dribbles success            float64\n",
       "fouls drawn                 float64\n",
       "fouls committed             float64\n",
       "yellow cards                  int64\n",
       "cards yellowred               int64\n",
       "cards red                     int64\n",
       "penalty won                 float64\n",
       "penalty conceded            float64\n",
       "penalty scored                int64\n",
       "penalty missed                int64\n",
       "penalty saved               float64\n",
       "Team 2.team id              float64\n",
       "Team 2.position              object\n",
       "Team 2.team name             object\n",
       "Team 2.appearances          float64\n",
       "Team 2.starter              float64\n",
       "Team 2.substitutes bench    float64\n",
       "Team 2.substitutes in       float64\n",
       "Team 2.substitutes out      float64\n",
       "Team 2.total minutes        float64\n",
       "Team 2.shots total          float64\n",
       "Team 2.shots on target      float64\n",
       "Team 2.total goals          float64\n",
       "Team 2.assists              float64\n",
       "Team 2.total passes         float64\n",
       "Team 2.sucessful tackles    float64\n",
       "Team 2.blocks               float64\n",
       "Team 2.interceptions        float64\n",
       "Team 2.total duels          float64\n",
       "Team 2.duels won            float64\n",
       "Team 2.dribbles attempts    float64\n",
       "Team 2.dribbles success     float64\n",
       "Team 2.fouls drawn          float64\n",
       "Team 2.fouls committed      float64\n",
       "Team 2.cards yellow         float64\n",
       "Team 2.cards yellowred      float64\n",
       "Team 2.cards red            float64\n",
       "Team 2.penalty won          float64\n",
       "Team 2.penalty conceded     float64\n",
       "Team 2.penalty scored       float64\n",
       "Team 2.penalty missed       float64\n",
       "dtype: object"
      ]
     },
     "execution_count": 23,
     "metadata": {},
     "output_type": "execute_result"
    }
   ],
   "source": [
    "#showing columns data type\n",
    "df.dtypes"
   ]
  },
  {
   "cell_type": "markdown",
   "metadata": {},
   "source": [
    "A lot of columns should have an integer type instead of float. A player can't have decimals in his number of passes, tackles or duels. But because these columns contains null, I won't be able to set them to integer type. However, it is not a problem since no players in the dataset actually has for instance 7.5 successful tackles or 5.3 shots total. The number after the decimal is always 0. On the other hand, I am going to change the 'player rating' column which has string data type to float. I will also fix the **Age** column which has a string data type instead of integer. I was not surprised by this as I saw in the Excel file that some values for this column were not integers but dates in the dd/mm/yy format. "
   ]
  },
  {
   "cell_type": "code",
   "execution_count": 24,
   "metadata": {},
   "outputs": [],
   "source": [
    "#creating a new column rating that takes the values of player rating column\n",
    "df['rating']=df['player rating'].str.replace(' ','.')\n",
    "#dropping player rating column\n",
    "df.drop(['player rating'],axis=1,inplace=True)"
   ]
  },
  {
   "cell_type": "markdown",
   "metadata": {},
   "source": [
    "I wanted to change the data type of the column **'player rating'** to float. However, I was getting an error due to the fact that some values in the column didn't contain a decimal point(e.g.7 019047). So I created a new column based on the **'player rating'** column that I named **'rating'** where I replaced any values with a space by a decimal point. In the new column, we have **7.019047** instead of 7 019047. I can therefore transofrm the new column **'rating'** type to float."
   ]
  },
  {
   "cell_type": "code",
   "execution_count": 25,
   "metadata": {},
   "outputs": [
    {
     "data": {
      "text/plain": [
       "dtype('float64')"
      ]
     },
     "execution_count": 25,
     "metadata": {},
     "output_type": "execute_result"
    }
   ],
   "source": [
    "#set rating column type to float\n",
    "df['rating']=df['rating'].astype('float')\n",
    "df['rating'].dtype"
   ]
  },
  {
   "cell_type": "code",
   "execution_count": 26,
   "metadata": {},
   "outputs": [
    {
     "data": {
      "text/plain": [
       "dtype('<M8[ns]')"
      ]
     },
     "execution_count": 26,
     "metadata": {},
     "output_type": "execute_result"
    }
   ],
   "source": [
    "#converting birth date column to datetime type\n",
    "df['birth date']=df['birth date'].astype('datetime64')\n",
    "df['birth date'].dtype"
   ]
  },
  {
   "cell_type": "code",
   "execution_count": 27,
   "metadata": {},
   "outputs": [],
   "source": [
    "#creating a new column\n",
    "df['lastmatchdate']='14-05-22' #date of last matchday of the 2021-2022 season\n",
    "\n",
    "#changing column's dtype to 'datetime'\n",
    "df['lastmatchdate']=df['lastmatchdate'].astype('datetime64')\n",
    "\n",
    "#setting age column values to 0 (some values are in dd-mm-yy format instead of integer so I am goign to recalculate the whole \n",
    "#column)\n",
    "df['age']=0 "
   ]
  },
  {
   "cell_type": "code",
   "execution_count": 28,
   "metadata": {},
   "outputs": [
    {
     "data": {
      "text/plain": [
       "0      23.650041\n",
       "1      32.206000\n",
       "2      32.301827\n",
       "3      33.101296\n",
       "4      30.051267\n",
       "         ...    \n",
       "512    24.624736\n",
       "513    22.866999\n",
       "514    31.176547\n",
       "515    29.884255\n",
       "516    23.414581\n",
       "Name: age, Length: 507, dtype: float64"
      ]
     },
     "execution_count": 28,
     "metadata": {},
     "output_type": "execute_result"
    }
   ],
   "source": [
    "#recalculating age column\n",
    "df['age']=df['lastmatchdate']-df['birth date']\n",
    "df['age']=df.age/np.timedelta64(1,'Y')#get the difference between dates in years\n",
    "df['age']\n"
   ]
  },
  {
   "cell_type": "code",
   "execution_count": 29,
   "metadata": {},
   "outputs": [
    {
     "data": {
      "text/plain": [
       "0      23\n",
       "1      32\n",
       "2      32\n",
       "3      33\n",
       "4      30\n",
       "       ..\n",
       "512    24\n",
       "513    22\n",
       "514    31\n",
       "515    29\n",
       "516    23\n",
       "Name: age, Length: 507, dtype: int32"
      ]
     },
     "execution_count": 29,
     "metadata": {},
     "output_type": "execute_result"
    }
   ],
   "source": [
    "#set age column's dtype to int\n",
    "df['age']=df['age'].astype('int')\n",
    "df['age']"
   ]
  },
  {
   "cell_type": "markdown",
   "metadata": {},
   "source": [
    "The **'age'** column is now fixed with all values being integers."
   ]
  },
  {
   "cell_type": "markdown",
   "metadata": {},
   "source": [
    "## Exploratory Data Analysis"
   ]
  },
  {
   "cell_type": "markdown",
   "metadata": {},
   "source": [
    "### Which were the ten most represented nationalities in the Bundesliga in the 2021-2022 season?"
   ]
  },
  {
   "cell_type": "code",
   "execution_count": 30,
   "metadata": {},
   "outputs": [
    {
     "data": {
      "text/plain": [
       "63"
      ]
     },
     "execution_count": 30,
     "metadata": {},
     "output_type": "execute_result"
    }
   ],
   "source": [
    "#get all the unique nationalities existing in the dataset\n",
    "df['nationality'].nunique()"
   ]
  },
  {
   "cell_type": "markdown",
   "metadata": {},
   "source": [
    "There was **63** different nationalities in the Bundesliga during the 2021-2022 season."
   ]
  },
  {
   "cell_type": "code",
   "execution_count": 31,
   "metadata": {},
   "outputs": [],
   "source": [
    "df2=df['nationality'].value_counts()"
   ]
  },
  {
   "cell_type": "markdown",
   "metadata": {},
   "source": [
    "The method above **value_counts()**  returns the count of all unique values in the given column in descending order, without any null values. So if I print df2, I can see the top 10 nationalities represented in the Bundesliga. However, I want to represent the result using a bar graph. I'll do that in the cells below."
   ]
  },
  {
   "cell_type": "code",
   "execution_count": 32,
   "metadata": {},
   "outputs": [],
   "source": [
    "#taking the 10 most represented nationalities\n",
    "df3=df2.head(11)\n",
    "df3.sort_values(inplace=True)# sort data in ascending order to have descending order in horizontal barplot below"
   ]
  },
  {
   "cell_type": "markdown",
   "metadata": {},
   "source": [
    "I took the first eleven rows because when I printed df2 in another notebook (a copy), I saw that there were 3 countries that had the same number of players: Croatia, Japan and Spain. Doing **df2.head(10)** would have excluded one of the them"
   ]
  },
  {
   "cell_type": "code",
   "execution_count": 33,
   "metadata": {},
   "outputs": [
    {
     "data": {
      "image/png": "[encoded data removed]",
      "text/plain": [
       "<Figure size 936x504 with 1 Axes>"
      ]
     },
     "metadata": {
      "needs_background": "light"
     },
     "output_type": "display_data"
    }
   ],
   "source": [
    "#creating a bar plot with the 10 most represented nationalities\n",
    "\n",
    "nationalities= list(df3.keys())#take nationalities\n",
    "pcount= list(df3.values)# take the number of players count\n",
    "plt.figure(figsize= (13,7))\n",
    "bars=plt.barh(nationalities,pcount, color='red')\n",
    "\n",
    "#show values at the end of each bar\n",
    "for index, value in enumerate(pcount):\n",
    "    plt.text(value, index, str(value))\n",
    "\n",
    "#setting axis and chart titles\n",
    "plt.xlabel(\"Number of players\")\n",
    "plt.ylabel(\"Nationalities/Countries\")\n",
    "plt.title(\"Nationalities in Bundesliga 2021-2022\",size=15,fontweight='bold')\n",
    "plt.show()\n"
   ]
  },
  {
   "cell_type": "markdown",
   "metadata": {},
   "source": [
    "Obviously, the most represented nation is **Germany** with **217** players followed by **France**, **Netherlands**, **Austria**, **Switzerland** respectively in the next 4 positions. "
   ]
  },
  {
   "cell_type": "markdown",
   "metadata": {},
   "source": [
    "### Which were the 5 youngest teams for the 2021-2022 season? Which team was the oldest?"
   ]
  },
  {
   "cell_type": "markdown",
   "metadata": {},
   "source": [
    "To answer these questions, I am going to determine the average age of each team."
   ]
  },
  {
   "cell_type": "code",
   "execution_count": 34,
   "metadata": {},
   "outputs": [],
   "source": [
    "#calculating the average age by team\n",
    "df4=df.groupby('team name')['age'].mean()"
   ]
  },
  {
   "cell_type": "code",
   "execution_count": 35,
   "metadata": {},
   "outputs": [],
   "source": [
    "df5=pd.Series(df4)"
   ]
  },
  {
   "cell_type": "code",
   "execution_count": 36,
   "metadata": {},
   "outputs": [
    {
     "data": {
      "text/plain": [
       "team name\n",
       "1899 Hoffenheim             26.000000\n",
       "Arminia Bielefeld           25.538462\n",
       "Bayer Leverkusen            24.758621\n",
       "Bayern Munich               25.703704\n",
       "Borussia Dortmund           24.750000\n",
       "Borussia Monchengladbach    25.884615\n",
       "Eintracht Frankfurt         26.538462\n",
       "FC Augsburg                 26.269231\n",
       "FC Koln                     25.800000\n",
       "FSV Mainz 05                25.962963\n",
       "Hertha Berlin               24.971429\n",
       "RB Leipzig                  24.464286\n",
       "SC Freiburg                 25.720000\n",
       "SpVgg Greuther Furth        25.241379\n",
       "Union Berlin                28.083333\n",
       "VfB Stuttgart               23.212121\n",
       "VfL BOCHUM                  27.642857\n",
       "VfL Wolfsburg               25.931034\n",
       "Name: age avg, dtype: float64"
      ]
     },
     "execution_count": 36,
     "metadata": {},
     "output_type": "execute_result"
    }
   ],
   "source": [
    "#renaming Series object name\n",
    "df5.rename('age avg',inplace=True)"
   ]
  },
  {
   "cell_type": "code",
   "execution_count": 37,
   "metadata": {},
   "outputs": [],
   "source": [
    "#round age values to 2 decimals\n",
    "df6=df5.round(2)"
   ]
  },
  {
   "cell_type": "code",
   "execution_count": 38,
   "metadata": {},
   "outputs": [],
   "source": [
    "#sort values in the ascending order\n",
    "df6.sort_values(inplace=True)"
   ]
  },
  {
   "cell_type": "code",
   "execution_count": 39,
   "metadata": {},
   "outputs": [
    {
     "data": {
      "image/png": "[encoded data removed]",
      "text/plain": [
       "<Figure size 720x360 with 1 Axes>"
      ]
     },
     "metadata": {
      "needs_background": "light"
     },
     "output_type": "display_data"
    }
   ],
   "source": [
    "#Taking the 5 youngest teams\n",
    "df7=df6.head(5)\n",
    "\n",
    "#creating a bar plot showing the 5 youngest teams\n",
    "teams = list(df7.keys())\n",
    "age= list(df7.values) \n",
    "plt.figure(figsize= (10,5))\n",
    "bars=plt.bar(teams,height=age,color='green',width=0.40)\n",
    "\n",
    "#show values at the top of each bar\n",
    "for bar in bars:\n",
    "    yval =bar.get_height()\n",
    "    plt.text(x=bar.get_x()+ bar.get_width()/2, y=yval+0.005,s=yval, ha='center')\n",
    "\n",
    "\n",
    "#setting axis and chart titles\n",
    "plt.xlabel(\"Teams\")\n",
    "plt.ylabel(\"Age average\")\n",
    "plt.title(\"Youngest teams in Bundesliga 2021-2022\",size=15,fontweight='bold')\n",
    "plt.show()"
   ]
  },
  {
   "cell_type": "markdown",
   "metadata": {},
   "source": [
    "**VfB Stuttgart** had the youngest group of players for the 2021-2022 Bundelsiga season with an age average of **23.21**. Among the top 5, we have RB Leipzing **(24.46)** in 2nd followed by Borussia Dortmund **(24.75)**, Bayer Leverkusen **(24.76)** and in 5th Herta Berlin **(24.97)**."
   ]
  },
  {
   "cell_type": "code",
   "execution_count": 40,
   "metadata": {},
   "outputs": [
    {
     "data": {
      "text/plain": [
       "team name\n",
       "Union Berlin    28.08\n",
       "Name: age avg, dtype: float64"
      ]
     },
     "execution_count": 40,
     "metadata": {},
     "output_type": "execute_result"
    }
   ],
   "source": [
    "#Selecting the oldest team in Bundelisga 2021-2022\n",
    "df6.tail(1) #last row of Series\n"
   ]
  },
  {
   "cell_type": "markdown",
   "metadata": {},
   "source": [
    "For the 2021-2022, the oldest group of players in the German league was at **Union Berlin** where the average age was **28.08**. It is almost 5 years older that the youngest group."
   ]
  },
  {
   "cell_type": "markdown",
   "metadata": {},
   "source": [
    "### What was the age distribution in Bundesliga in the 2021-2022 season?"
   ]
  },
  {
   "cell_type": "markdown",
   "metadata": {},
   "source": [
    "In this section, I am going to create 4 age groups and represent the age distribution using a pie chart. The 4 age categories are the following:\n",
    "*  **Under 20**\n",
    "*  **20-25**\n",
    "*  **26-30**\n",
    "*  **Over 30**\n",
    "\n",
    "\n",
    "    \n",
    " "
   ]
  },
  {
   "cell_type": "code",
   "execution_count": 41,
   "metadata": {},
   "outputs": [],
   "source": [
    "#dividing dataset based on age groups\n",
    "U_20=df.loc[df['age']<20]\n",
    "B_20_25=df.loc[(df['age']>=20) & (df['age']<=25)]\n",
    "B_26_30=df.loc[(df['age']>25) & (df['age']<=30)]\n",
    "O_30=df.loc[df['age']>30]"
   ]
  },
  {
   "cell_type": "code",
   "execution_count": 42,
   "metadata": {},
   "outputs": [
    {
     "data": {
      "image/png": "[encoded data removed]",
      "text/plain": [
       "<Figure size 432x432 with 1 Axes>"
      ]
     },
     "metadata": {},
     "output_type": "display_data"
    }
   ],
   "source": [
    "#creating array of values for pie chart\n",
    "x= np.array([U_20['name'].count(), B_20_25['name'].count(), B_26_30['name'].count(),O_30['name'].count()])\n",
    "#setting labels for pie chart\n",
    "agelabels=['Under 20','20-25','26-30', 'Over 30']\n",
    "#creating the pie chart\n",
    "plt.figure(figsize=(6,6))\n",
    "plt.pie(x,autopct=\"%.1f%%\",startangle=90)\n",
    "plt.legend(agelabels,title='Age groups',loc='lower right')\n",
    "plt.title(\"Players' age distribution\",size=15,fontweight='bold')\n",
    "plt.show()"
   ]
  },
  {
   "cell_type": "markdown",
   "metadata": {},
   "source": [
    "Most players in the Bundesliga 2021-2022 were between 20 and 25 years old (**42.6%**). In second, we have the 26-30 age group with **31.4%**. Following are the players who are older than 30, as they accounted for **16.6%** of the total players. Lastly, **9.5%** of the players have under 20 years of age. "
   ]
  },
  {
   "cell_type": "markdown",
   "metadata": {},
   "source": [
    "### Who were the 10 players with the highest goals per game ratio?"
   ]
  },
  {
   "cell_type": "code",
   "execution_count": 43,
   "metadata": {},
   "outputs": [],
   "source": [
    "#replacing null values with 0\n",
    "df7=df.replace(np.nan,0)"
   ]
  },
  {
   "cell_type": "markdown",
   "metadata": {},
   "source": [
    "In order to calculate the goals/game ratio, I am going to need the columns \"**total goals**\", \"**appearances**\" but also \"**Team 2.total goals**\" and \"**Team 2.appearances**\". The latter two contains null values because only a couple of the players played for two different teams during the season. Having these null values can prevent me to do some operations or I can have inaccurate results. Therefore, I replaced null values with 0 in a copy (df7) of the original dataset."
   ]
  },
  {
   "cell_type": "code",
   "execution_count": 44,
   "metadata": {},
   "outputs": [],
   "source": [
    "#columns appearances and total goals have int dtype\n",
    "#setting their twin columns' data to int\n",
    "df7['Team 2.appearances']=df7['Team 2.appearances'].astype('int64')\n",
    "df7['Team 2.total goals']=df7['Team 2.total goals'].astype('int64')"
   ]
  },
  {
   "cell_type": "code",
   "execution_count": 45,
   "metadata": {},
   "outputs": [],
   "source": [
    "#calculating goals/per game ratio\n",
    "df7['goals per game']=(df7['total goals']+df7['Team 2.total goals'])/(df7['appearances']+df7['Team 2.appearances'])"
   ]
  },
  {
   "cell_type": "code",
   "execution_count": 46,
   "metadata": {},
   "outputs": [],
   "source": [
    "#taking subset of dataframe\n",
    "df8=df7[['name','team name','appearances','total goals','Team 2.team name','Team 2.appearances','Team 2.total goals','goals per game']]"
   ]
  },
  {
   "cell_type": "code",
   "execution_count": 47,
   "metadata": {},
   "outputs": [],
   "source": [
    "#taking players with minimum 17 games played\n",
    "df9=df8.loc[df8['appearances']+ df8['Team 2.appearances']>=17]"
   ]
  },
  {
   "cell_type": "markdown",
   "metadata": {},
   "source": [
    "I am going to calculate the goals per game average based on players who played 17 games (half of season games) or more to avoid results being skewed. For instance, a player who played  2 games and scored a goal has an avergae of 0.5 a game and might end up in the top 10 goals/game ratio, above players who have played way more games. "
   ]
  },
  {
   "cell_type": "code",
   "execution_count": 48,
   "metadata": {},
   "outputs": [],
   "source": [
    "#sorting df9 by 'goals per game' in descending order\n",
    "df10=df9.sort_values(by=['goals per game'],ascending=False)"
   ]
  },
  {
   "cell_type": "code",
   "execution_count": 50,
   "metadata": {},
   "outputs": [],
   "source": [
    "#set columns values where it is 0 to null\n",
    "df10['Team 2.appearances'].mask(df10['Team 2.appearances'] == 0,np.nan, inplace=True)\n",
    "df10['Team 2.total goals'].mask(df10['Team 2.total goals'] == 0,np.nan, inplace=True)\n",
    "df10['Team 2.team name'].mask(df10['Team 2.team name'] == 0,np.nan, inplace=True)"
   ]
  },
  {
   "cell_type": "code",
   "execution_count": 51,
   "metadata": {},
   "outputs": [],
   "source": [
    "#rounding to 2 decimals for values in goals/game column\n",
    "df10['goals per game']=df10['goals per game'].round(2)"
   ]
  },
  {
   "cell_type": "code",
   "execution_count": 52,
   "metadata": {},
   "outputs": [
    {
     "data": {
      "text/html": [
       "<div>\n",
       "<style scoped>\n",
       "    .dataframe tbody tr th:only-of-type {\n",
       "        vertical-align: middle;\n",
       "    }\n",
       "\n",
       "    .dataframe tbody tr th {\n",
       "        vertical-align: top;\n",
       "    }\n",
       "\n",
       "    .dataframe thead th {\n",
       "        text-align: right;\n",
       "    }\n",
       "</style>\n",
       "<table border=\"1\" class=\"dataframe\">\n",
       "  <thead>\n",
       "    <tr style=\"text-align: right;\">\n",
       "      <th></th>\n",
       "      <th>name</th>\n",
       "      <th>team name</th>\n",
       "      <th>appearances</th>\n",
       "      <th>total goals</th>\n",
       "      <th>Team 2.team name</th>\n",
       "      <th>Team 2.appearances</th>\n",
       "      <th>Team 2.total goals</th>\n",
       "      <th>goals per game</th>\n",
       "    </tr>\n",
       "  </thead>\n",
       "  <tbody>\n",
       "    <tr>\n",
       "      <th>109</th>\n",
       "      <td>R. Lewandowski</td>\n",
       "      <td>Bayern Munich</td>\n",
       "      <td>34</td>\n",
       "      <td>35</td>\n",
       "      <td>NaN</td>\n",
       "      <td>NaN</td>\n",
       "      <td>NaN</td>\n",
       "      <td>1.03</td>\n",
       "    </tr>\n",
       "    <tr>\n",
       "      <th>136</th>\n",
       "      <td>E. Håland</td>\n",
       "      <td>Borussia Dortmund</td>\n",
       "      <td>24</td>\n",
       "      <td>22</td>\n",
       "      <td>NaN</td>\n",
       "      <td>NaN</td>\n",
       "      <td>NaN</td>\n",
       "      <td>0.92</td>\n",
       "    </tr>\n",
       "    <tr>\n",
       "      <th>62</th>\n",
       "      <td>P. Schick</td>\n",
       "      <td>Bayer Leverkusen</td>\n",
       "      <td>27</td>\n",
       "      <td>24</td>\n",
       "      <td>NaN</td>\n",
       "      <td>NaN</td>\n",
       "      <td>NaN</td>\n",
       "      <td>0.89</td>\n",
       "    </tr>\n",
       "    <tr>\n",
       "      <th>237</th>\n",
       "      <td>A. Modeste</td>\n",
       "      <td>FC Koln</td>\n",
       "      <td>32</td>\n",
       "      <td>20</td>\n",
       "      <td>NaN</td>\n",
       "      <td>NaN</td>\n",
       "      <td>NaN</td>\n",
       "      <td>0.62</td>\n",
       "    </tr>\n",
       "    <tr>\n",
       "      <th>339</th>\n",
       "      <td>C. Nkunku</td>\n",
       "      <td>RB Leipzig</td>\n",
       "      <td>34</td>\n",
       "      <td>20</td>\n",
       "      <td>NaN</td>\n",
       "      <td>NaN</td>\n",
       "      <td>NaN</td>\n",
       "      <td>0.59</td>\n",
       "    </tr>\n",
       "    <tr>\n",
       "      <th>403</th>\n",
       "      <td>Taiwo Micheal Awoniyi</td>\n",
       "      <td>Union Berlin</td>\n",
       "      <td>31</td>\n",
       "      <td>15</td>\n",
       "      <td>NaN</td>\n",
       "      <td>NaN</td>\n",
       "      <td>NaN</td>\n",
       "      <td>0.48</td>\n",
       "    </tr>\n",
       "    <tr>\n",
       "      <th>159</th>\n",
       "      <td>J. Hofmann</td>\n",
       "      <td>Borussia Monchengladbach</td>\n",
       "      <td>26</td>\n",
       "      <td>12</td>\n",
       "      <td>NaN</td>\n",
       "      <td>NaN</td>\n",
       "      <td>NaN</td>\n",
       "      <td>0.46</td>\n",
       "    </tr>\n",
       "    <tr>\n",
       "      <th>94</th>\n",
       "      <td>S. Gnabry</td>\n",
       "      <td>Bayern Munich</td>\n",
       "      <td>34</td>\n",
       "      <td>14</td>\n",
       "      <td>NaN</td>\n",
       "      <td>NaN</td>\n",
       "      <td>NaN</td>\n",
       "      <td>0.41</td>\n",
       "    </tr>\n",
       "    <tr>\n",
       "      <th>86</th>\n",
       "      <td>Moussa Diaby</td>\n",
       "      <td>Bayer Leverkusen</td>\n",
       "      <td>32</td>\n",
       "      <td>13</td>\n",
       "      <td>NaN</td>\n",
       "      <td>NaN</td>\n",
       "      <td>NaN</td>\n",
       "      <td>0.41</td>\n",
       "    </tr>\n",
       "    <tr>\n",
       "      <th>496</th>\n",
       "      <td>Max Bennet Kruse</td>\n",
       "      <td>VfL Wolfsburg</td>\n",
       "      <td>14</td>\n",
       "      <td>7</td>\n",
       "      <td>Union Berlin</td>\n",
       "      <td>16.0</td>\n",
       "      <td>5.0</td>\n",
       "      <td>0.40</td>\n",
       "    </tr>\n",
       "  </tbody>\n",
       "</table>\n",
       "</div>"
      ],
      "text/plain": [
       "                      name                 team name  appearances  \\\n",
       "109         R. Lewandowski             Bayern Munich           34   \n",
       "136              E. Håland         Borussia Dortmund           24   \n",
       "62               P. Schick          Bayer Leverkusen           27   \n",
       "237             A. Modeste                   FC Koln           32   \n",
       "339              C. Nkunku                RB Leipzig           34   \n",
       "403  Taiwo Micheal Awoniyi              Union Berlin           31   \n",
       "159             J. Hofmann  Borussia Monchengladbach           26   \n",
       "94               S. Gnabry             Bayern Munich           34   \n",
       "86            Moussa Diaby          Bayer Leverkusen           32   \n",
       "496       Max Bennet Kruse             VfL Wolfsburg           14   \n",
       "\n",
       "     total goals Team 2.team name  Team 2.appearances  Team 2.total goals  \\\n",
       "109           35              NaN                 NaN                 NaN   \n",
       "136           22              NaN                 NaN                 NaN   \n",
       "62            24              NaN                 NaN                 NaN   \n",
       "237           20              NaN                 NaN                 NaN   \n",
       "339           20              NaN                 NaN                 NaN   \n",
       "403           15              NaN                 NaN                 NaN   \n",
       "159           12              NaN                 NaN                 NaN   \n",
       "94            14              NaN                 NaN                 NaN   \n",
       "86            13              NaN                 NaN                 NaN   \n",
       "496            7     Union Berlin                16.0                 5.0   \n",
       "\n",
       "     goals per game  \n",
       "109            1.03  \n",
       "136            0.92  \n",
       "62             0.89  \n",
       "237            0.62  \n",
       "339            0.59  \n",
       "403            0.48  \n",
       "159            0.46  \n",
       "94             0.41  \n",
       "86             0.41  \n",
       "496            0.40  "
      ]
     },
     "execution_count": 52,
     "metadata": {},
     "output_type": "execute_result"
    }
   ],
   "source": [
    "#taking the top 10 goals/game ratio\n",
    "df10.head(10)"
   ]
  },
  {
   "cell_type": "markdown",
   "metadata": {},
   "source": [
    "The table above shows the 10 players who had the highest goals/appearances ratio for the 2021-2022 Bundesliga season. Robert Lewandowski leads this ranking with a ratio of **1.03** goals per game after scoring 35 goals in 34 games played."
   ]
  },
  {
   "cell_type": "markdown",
   "metadata": {},
   "source": [
    "### Which 5 teams scored the most goals? And which 5 teams scored the least goals?"
   ]
  },
  {
   "cell_type": "code",
   "execution_count": 53,
   "metadata": {},
   "outputs": [
    {
     "data": {
      "text/plain": [
       "team name\n",
       "1899 Hoffenheim             55\n",
       "Arminia Bielefeld           26\n",
       "Bayer Leverkusen            76\n",
       "Bayern Munich               92\n",
       "Borussia Dortmund           81\n",
       "Borussia Monchengladbach    54\n",
       "Eintracht Frankfurt         42\n",
       "FC Augsburg                 39\n",
       "FC Koln                     52\n",
       "FSV Mainz 05                49\n",
       "Hertha Berlin               35\n",
       "RB Leipzig                  72\n",
       "SC Freiburg                 55\n",
       "SpVgg Greuther Furth        26\n",
       "Union Berlin                45\n",
       "VfB Stuttgart               37\n",
       "VfL BOCHUM                  37\n",
       "VfL Wolfsburg               42\n",
       "Name: total goals, dtype: int64"
      ]
     },
     "execution_count": 53,
     "metadata": {},
     "output_type": "execute_result"
    }
   ],
   "source": [
    "#sum of goals by team\n",
    "df11=df.groupby('team name')['total goals'].sum()\n",
    "df11"
   ]
  },
  {
   "cell_type": "code",
   "execution_count": 54,
   "metadata": {},
   "outputs": [],
   "source": [
    "df12=df.loc[df['Team 2.total goals']>=0]\n",
    "#taking goals scored from Team2 columns\n",
    "df13=df12.groupby('Team 2.team name')['Team 2.total goals'].sum()"
   ]
  },
  {
   "cell_type": "code",
   "execution_count": 55,
   "metadata": {},
   "outputs": [
    {
     "data": {
      "text/plain": [
       "Team 2.team name\n",
       "Bayern Munich        0\n",
       "Borussia Dortmund    0\n",
       "FSV Mainz 05         0\n",
       "Hertha Berlin        1\n",
       "RB Leipzig           0\n",
       "SC Freiburg          0\n",
       "Union Berlin         5\n",
       "VfB Stuttgart        0\n",
       "VfL Wolfsburg        0\n",
       "Name: Team 2.total goals, dtype: int64"
      ]
     },
     "execution_count": 55,
     "metadata": {},
     "output_type": "execute_result"
    }
   ],
   "source": [
    "df14=df13.astype('int64')\n",
    "df14"
   ]
  },
  {
   "cell_type": "markdown",
   "metadata": {},
   "source": [
    "Above, I see that I need to add 5 goals to Union Berlin's goals in df11 and 1 goal to Hertha Berlin. I am going to have to concatenate Series df11 with the Series of 'Team2' (df14). But the latter Series does not have the same indexes (rows) as df11 so I have to reindex it and set null values to 0."
   ]
  },
  {
   "cell_type": "code",
   "execution_count": 56,
   "metadata": {},
   "outputs": [
    {
     "data": {
      "text/plain": [
       "Index(['1899 Hoffenheim', 'Arminia Bielefeld', 'Bayer Leverkusen',\n",
       "       'Bayern Munich', 'Borussia Dortmund', 'Borussia Monchengladbach',\n",
       "       'Eintracht Frankfurt', 'FC Augsburg', 'FC Koln', 'FSV Mainz 05',\n",
       "       'Hertha Berlin', 'RB Leipzig', 'SC Freiburg', 'SpVgg Greuther Furth',\n",
       "       'Union Berlin', 'VfB Stuttgart', 'VfL BOCHUM', 'VfL Wolfsburg'],\n",
       "      dtype='object', name='team name')"
      ]
     },
     "execution_count": 56,
     "metadata": {},
     "output_type": "execute_result"
    }
   ],
   "source": [
    "df11.index"
   ]
  },
  {
   "cell_type": "code",
   "execution_count": 57,
   "metadata": {},
   "outputs": [
    {
     "data": {
      "text/plain": [
       "Team 2.team name\n",
       "1899 Hoffenheim             NaN\n",
       "Arminia Bielefeld           NaN\n",
       "Bayer Leverkusen            NaN\n",
       "Bayern Munich               0.0\n",
       "Borussia Dortmund           0.0\n",
       "Borussia Monchengladbach    NaN\n",
       "Eintracht Frankfurt         NaN\n",
       "FC Augsburg                 NaN\n",
       "FC Koln                     NaN\n",
       "FSV Mainz 05                0.0\n",
       "Hertha Berlin               1.0\n",
       "RB Leipzig                  0.0\n",
       "SC Freiburg                 0.0\n",
       "SpVgg Greuther Furth        NaN\n",
       "Union Berlin                5.0\n",
       "VfB Stuttgart               0.0\n",
       "VfL BOCHUM                  NaN\n",
       "VfL Wolfsburg               0.0\n",
       "Name: Team 2.total goals, dtype: float64"
      ]
     },
     "execution_count": 57,
     "metadata": {},
     "output_type": "execute_result"
    }
   ],
   "source": [
    "#reindexing df14 with the same indexes as df11\n",
    "df15=df14.reindex(['1899 Hoffenheim', 'Arminia Bielefeld', 'Bayer Leverkusen',\n",
    "       'Bayern Munich', 'Borussia Dortmund', 'Borussia Monchengladbach',\n",
    "       'Eintracht Frankfurt', 'FC Augsburg', 'FC Koln', 'FSV Mainz 05',\n",
    "       'Hertha Berlin', 'RB Leipzig', 'SC Freiburg', 'SpVgg Greuther Furth',\n",
    "       'Union Berlin', 'VfB Stuttgart', 'VfL BOCHUM', 'VfL Wolfsburg'])\n",
    "df15"
   ]
  },
  {
   "cell_type": "code",
   "execution_count": 58,
   "metadata": {},
   "outputs": [
    {
     "data": {
      "text/plain": [
       "Team 2.team name\n",
       "1899 Hoffenheim             0\n",
       "Arminia Bielefeld           0\n",
       "Bayer Leverkusen            0\n",
       "Bayern Munich               0\n",
       "Borussia Dortmund           0\n",
       "Borussia Monchengladbach    0\n",
       "Eintracht Frankfurt         0\n",
       "FC Augsburg                 0\n",
       "FC Koln                     0\n",
       "FSV Mainz 05                0\n",
       "Hertha Berlin               1\n",
       "RB Leipzig                  0\n",
       "SC Freiburg                 0\n",
       "SpVgg Greuther Furth        0\n",
       "Union Berlin                5\n",
       "VfB Stuttgart               0\n",
       "VfL BOCHUM                  0\n",
       "VfL Wolfsburg               0\n",
       "Name: Team 2.total goals, dtype: int64"
      ]
     },
     "execution_count": 58,
     "metadata": {},
     "output_type": "execute_result"
    }
   ],
   "source": [
    "#replacing df15 null values with 0 and changing dtype\n",
    "df15.replace(np.nan,0,inplace=True)\n",
    "df16=df15.astype('int64')\n",
    "df16"
   ]
  },
  {
   "cell_type": "code",
   "execution_count": 59,
   "metadata": {},
   "outputs": [],
   "source": [
    "#concatenating two Series \n",
    "df17=df11+df16\n",
    "#sorting Series in ascending order\n",
    "df17.sort_values(ascending=True,inplace=True)"
   ]
  },
  {
   "cell_type": "code",
   "execution_count": 60,
   "metadata": {},
   "outputs": [
    {
     "data": {
      "image/png": "[encoded data removed]",
      "text/plain": [
       "<Figure size 432x288 with 2 Axes>"
      ]
     },
     "metadata": {
      "needs_background": "light"
     },
     "output_type": "display_data"
    }
   ],
   "source": [
    "#Drawing two bar plots side by side using subplot\n",
    "\n",
    "#First subplot\n",
    "top5=df17.tail(6) #top 5 attacks\n",
    "x=list(top5.keys())\n",
    "y=list(top5.values)\n",
    "plt.subplot(1,2,1)\n",
    "bars=plt.barh(x,y, color='Orange')\n",
    "\n",
    "for index, value in enumerate(y):\n",
    "    plt.text(value, index, str(value))\n",
    "\n",
    "    \n",
    "plt.xlabel(\"Goals scored\")\n",
    "plt.ylabel(\"Teams\")\n",
    "plt.title(\"Top 5 attacks 2021-2022 season\",size=12,fontweight='bold')\n",
    "\n",
    "#Second subplot\n",
    "df17_d=df17.sort_values(ascending=False)\n",
    "last5=df17_d.tail(5)#worst 5 attacks\n",
    "x1=list(last5.keys())\n",
    "y1=list(last5.values)\n",
    "plt.subplot(1,2,2)\n",
    "bars=plt.barh(x1,y1, color='Orange')\n",
    "\n",
    "for index, value in enumerate(y1):\n",
    "    plt.text(value, index, str(value))\n",
    "\n",
    "plt.xlabel(\"Goals scored\")\n",
    "plt.ylabel(\"Teams\")\n",
    "plt.title(\" Worst 5 attacks 2021-2022 season\",size=12,fontweight='bold')\n",
    "\n",
    "\n",
    "#set spacing between subplots and display them\n",
    "plt.subplots_adjust(left=0.1,bottom=0.1,right=1.95,top=1,wspace=0.6, hspace=1)\n",
    "plt.show()"
   ]
  },
  {
   "cell_type": "markdown",
   "metadata": {},
   "source": [
    "### Which 5 teams conceded the least goals ? And which 5 teams have allowed the most goals?"
   ]
  },
  {
   "cell_type": "code",
   "execution_count": 61,
   "metadata": {},
   "outputs": [],
   "source": [
    "#take the rows where position is goalkeeper\n",
    "#These are the rows for which there is a value for the column goals conceded\n",
    "df18=df.loc[df['position']=='Goalkeeper']"
   ]
  },
  {
   "cell_type": "code",
   "execution_count": 62,
   "metadata": {},
   "outputs": [],
   "source": [
    "#sum of goals conceded by team\n",
    "df19=df18.groupby('team name')['goals conceded'].sum()"
   ]
  },
  {
   "cell_type": "code",
   "execution_count": 63,
   "metadata": {},
   "outputs": [],
   "source": [
    "#sort in descending order\n",
    "df19.sort_values(ascending=False,inplace=True)"
   ]
  },
  {
   "cell_type": "code",
   "execution_count": 64,
   "metadata": {},
   "outputs": [
    {
     "data": {
      "image/png": "[encoded data removed]",
      "text/plain": [
       "<Figure size 1080x360 with 2 Axes>"
      ]
     },
     "metadata": {
      "needs_background": "light"
     },
     "output_type": "display_data"
    }
   ],
   "source": [
    "#Drawing two bar plots side by side using subplot\n",
    "\n",
    "#set subplots sizes\n",
    "fig, ax = plt.subplots(1, 2, figsize=(15,5))\n",
    "\n",
    "#First subplot\n",
    "df19_a=df19.sort_values() #ascending order\n",
    "top5=df19_a[1:6] #top 5 defences\n",
    "x=list(top5.keys())\n",
    "y=list(top5.values)\n",
    "plt.subplot(1,2,1)\n",
    "bars=plt.bar(x,y, color='Blue')\n",
    "\n",
    "#show values at the top of each bar\n",
    "for bar in bars:\n",
    "    yval =bar.get_height()\n",
    "    plt.text(x=bar.get_x()+ bar.get_width()/2, y=yval+0.005,s=yval, ha='center')\n",
    "\n",
    "    \n",
    "plt.xlabel(\"Teams\")\n",
    "plt.xticks(rotation=30)#rotate x-axis labels by 30 degree\n",
    "plt.ylabel(\"Goals Conceded\")\n",
    "plt.title(\"Top 5 defences 2021-2022 season\",size=12,fontweight='bold')\n",
    "\n",
    "#Second subplot\n",
    "last5=df19.head(5)#worst 5 defences\n",
    "x1=list(last5.keys())\n",
    "y1=list(last5.values)\n",
    "plt.subplot(1,2,2)\n",
    "bars=plt.bar(x1,y1, color='Blue')\n",
    "\n",
    "\n",
    "for bar in bars:\n",
    "    yval =bar.get_height()\n",
    "    plt.text(x=bar.get_x()+ bar.get_width()/2, y=yval+0.005,s=yval, ha='center')\n",
    "\n",
    "plt.xlabel(\"Teams\")\n",
    "plt.xticks(rotation=30)\n",
    "plt.ylabel(\"Goals conceded\")\n",
    "plt.title(\" Worst 5 defences 2021-2022 season\",size=12,fontweight='bold')\n",
    "\n",
    "\n",
    "#set spacing between subplots and display them\n",
    "plt.subplots_adjust(left=0.1,bottom=0.1,right=0.9,top=0.9,wspace=0.5, hspace=0.5)\n",
    "plt.show()"
   ]
  },
  {
   "cell_type": "markdown",
   "metadata": {},
   "source": [
    "For the first barplot (on the left), I excluded the first value in df19_a which was FC Köln with 28 goals. I was surprised by this fact and I researched the Bundelisga statistics on the web. I saw that FC Köln conceded 49 goals. I filtered the dataset and I saw that there was a goalkeeper (Marvin Schwäbe) who conceded 28 goals in 21 appearances. However, there was another goalkeeper (Timo Horn) who played for FC Köln during the season and was not in the dataset. He played 12 games and conceded 21 goals, which means that FC Köln conceded 49 if you add the 28 conceded by the first goalkeeper. Therefore, it is actually **RB Leipzig** and **Bayern Munich** that have conceded the least goals (**37**)."
   ]
  },
  {
   "cell_type": "markdown",
   "metadata": {},
   "source": [
    "### Who are the 15 players in the Bundesliga with the highest percentage of successful dribbles in the 2021-2022 season?"
   ]
  },
  {
   "cell_type": "markdown",
   "metadata": {},
   "source": [
    "I am going to determine players'successful dribbles percentage for players who attempted at least **70 dribbles attempted**. The more dribbles you attempt, the lower your percentage will be. Moreover, only evaluating players with 70 dribbles is going to allow me to work on non null values. Indeed, I noticed in the Excel file that some data is missing or is unavailable for columns 'dribbles attempted' and 'dribbles success' (columns needed to calculate success %). And for most players that have under 10 dribbles attempted, I noticed that the column 'dribbles success' was null. "
   ]
  },
  {
   "cell_type": "code",
   "execution_count": 65,
   "metadata": {},
   "outputs": [],
   "source": [
    "#replacing null values with 0 to be able to do operations\n",
    "df['dribbles attempts']=df['dribbles attempts'].replace(np.nan,0)\n",
    "df['dribbles success']=df['dribbles success'].replace(np.nan,0)\n",
    "df['Team 2.dribbles attempts']=df['Team 2.dribbles attempts'].replace(np.nan,0)\n",
    "df['Team 2.dribbles success']=df['Team 2.dribbles success'].replace(np.nan,0)"
   ]
  },
  {
   "cell_type": "code",
   "execution_count": 66,
   "metadata": {},
   "outputs": [],
   "source": [
    "#create the 'successful dribbles percentage' column\n",
    "df['SD_percentage']=((df['dribbles success']+df['Team 2.dribbles success'])/(df['dribbles attempts']+df['Team 2.dribbles attempts']))*100\n",
    "df['SD_percentage']=df['SD_percentage'].round(2)"
   ]
  },
  {
   "cell_type": "code",
   "execution_count": 67,
   "metadata": {},
   "outputs": [],
   "source": [
    "#selecting players with at least 70 dribbles attempted\n",
    "df20=df.loc[(df['dribbles attempts'] + df['Team 2.dribbles attempts']>=70)]"
   ]
  },
  {
   "cell_type": "code",
   "execution_count": 68,
   "metadata": {},
   "outputs": [],
   "source": [
    "#sorting df by column SD_percentage in descending order \n",
    "df21=df20.sort_values(by='SD_percentage',ascending=False)"
   ]
  },
  {
   "cell_type": "code",
   "execution_count": 69,
   "metadata": {},
   "outputs": [],
   "source": [
    "#set columns Team 2 back to nan for rows with value 0\n",
    "df21['Team 2.dribbles attempts'].mask(df21['Team 2.dribbles attempts'] == 0.0,np.nan, inplace=True)\n",
    "df21['Team 2.dribbles success'].mask(df21['Team 2.dribbles success'] == 0.0,np.nan, inplace=True)"
   ]
  },
  {
   "cell_type": "code",
   "execution_count": 70,
   "metadata": {},
   "outputs": [
    {
     "data": {
      "text/html": [
       "<div>\n",
       "<style scoped>\n",
       "    .dataframe tbody tr th:only-of-type {\n",
       "        vertical-align: middle;\n",
       "    }\n",
       "\n",
       "    .dataframe tbody tr th {\n",
       "        vertical-align: top;\n",
       "    }\n",
       "\n",
       "    .dataframe thead th {\n",
       "        text-align: right;\n",
       "    }\n",
       "</style>\n",
       "<table border=\"1\" class=\"dataframe\">\n",
       "  <thead>\n",
       "    <tr style=\"text-align: right;\">\n",
       "      <th></th>\n",
       "      <th>name</th>\n",
       "      <th>position</th>\n",
       "      <th>team name</th>\n",
       "      <th>dribbles attempts</th>\n",
       "      <th>dribbles success</th>\n",
       "      <th>Team 2.dribbles attempts</th>\n",
       "      <th>Team 2.dribbles success</th>\n",
       "      <th>SD_percentage</th>\n",
       "    </tr>\n",
       "  </thead>\n",
       "  <tbody>\n",
       "    <tr>\n",
       "      <th>153</th>\n",
       "      <td>K. Koné</td>\n",
       "      <td>Midfielder</td>\n",
       "      <td>Borussia Monchengladbach</td>\n",
       "      <td>92.0</td>\n",
       "      <td>67.0</td>\n",
       "      <td>NaN</td>\n",
       "      <td>NaN</td>\n",
       "      <td>72.83</td>\n",
       "    </tr>\n",
       "    <tr>\n",
       "      <th>339</th>\n",
       "      <td>C. Nkunku</td>\n",
       "      <td>Midfielder</td>\n",
       "      <td>RB Leipzig</td>\n",
       "      <td>99.0</td>\n",
       "      <td>66.0</td>\n",
       "      <td>NaN</td>\n",
       "      <td>NaN</td>\n",
       "      <td>66.67</td>\n",
       "    </tr>\n",
       "    <tr>\n",
       "      <th>83</th>\n",
       "      <td>Florian Richard Wirtz</td>\n",
       "      <td>Attacker</td>\n",
       "      <td>Bayer Leverkusen</td>\n",
       "      <td>85.0</td>\n",
       "      <td>55.0</td>\n",
       "      <td>NaN</td>\n",
       "      <td>NaN</td>\n",
       "      <td>64.71</td>\n",
       "    </tr>\n",
       "    <tr>\n",
       "      <th>93</th>\n",
       "      <td>A. Davies</td>\n",
       "      <td>Defender</td>\n",
       "      <td>Bayern Munich</td>\n",
       "      <td>125.0</td>\n",
       "      <td>80.0</td>\n",
       "      <td>NaN</td>\n",
       "      <td>NaN</td>\n",
       "      <td>64.00</td>\n",
       "    </tr>\n",
       "    <tr>\n",
       "      <th>94</th>\n",
       "      <td>S. Gnabry</td>\n",
       "      <td>Midfielder</td>\n",
       "      <td>Bayern Munich</td>\n",
       "      <td>104.0</td>\n",
       "      <td>63.0</td>\n",
       "      <td>NaN</td>\n",
       "      <td>NaN</td>\n",
       "      <td>60.58</td>\n",
       "    </tr>\n",
       "    <tr>\n",
       "      <th>82</th>\n",
       "      <td>J. Frimpong</td>\n",
       "      <td>Defender</td>\n",
       "      <td>Bayer Leverkusen</td>\n",
       "      <td>79.0</td>\n",
       "      <td>47.0</td>\n",
       "      <td>NaN</td>\n",
       "      <td>NaN</td>\n",
       "      <td>59.49</td>\n",
       "    </tr>\n",
       "    <tr>\n",
       "      <th>281</th>\n",
       "      <td>Suat Serdar</td>\n",
       "      <td>Midfielder</td>\n",
       "      <td>Hertha Berlin</td>\n",
       "      <td>103.0</td>\n",
       "      <td>61.0</td>\n",
       "      <td>NaN</td>\n",
       "      <td>NaN</td>\n",
       "      <td>59.22</td>\n",
       "    </tr>\n",
       "    <tr>\n",
       "      <th>432</th>\n",
       "      <td>O. Mangala</td>\n",
       "      <td>Midfielder</td>\n",
       "      <td>VfB Stuttgart</td>\n",
       "      <td>73.0</td>\n",
       "      <td>43.0</td>\n",
       "      <td>NaN</td>\n",
       "      <td>NaN</td>\n",
       "      <td>58.90</td>\n",
       "    </tr>\n",
       "    <tr>\n",
       "      <th>109</th>\n",
       "      <td>R. Lewandowski</td>\n",
       "      <td>Attacker</td>\n",
       "      <td>Bayern Munich</td>\n",
       "      <td>82.0</td>\n",
       "      <td>48.0</td>\n",
       "      <td>NaN</td>\n",
       "      <td>NaN</td>\n",
       "      <td>58.54</td>\n",
       "    </tr>\n",
       "    <tr>\n",
       "      <th>146</th>\n",
       "      <td>J. Bellingham</td>\n",
       "      <td>Midfielder</td>\n",
       "      <td>Borussia Dortmund</td>\n",
       "      <td>96.0</td>\n",
       "      <td>55.0</td>\n",
       "      <td>NaN</td>\n",
       "      <td>NaN</td>\n",
       "      <td>57.29</td>\n",
       "    </tr>\n",
       "    <tr>\n",
       "      <th>108</th>\n",
       "      <td>K. Coman</td>\n",
       "      <td>Attacker</td>\n",
       "      <td>Bayern Munich</td>\n",
       "      <td>85.0</td>\n",
       "      <td>48.0</td>\n",
       "      <td>NaN</td>\n",
       "      <td>NaN</td>\n",
       "      <td>56.47</td>\n",
       "    </tr>\n",
       "    <tr>\n",
       "      <th>105</th>\n",
       "      <td>Jamal Musiala</td>\n",
       "      <td>Midfielder</td>\n",
       "      <td>Bayern Munich</td>\n",
       "      <td>102.0</td>\n",
       "      <td>57.0</td>\n",
       "      <td>NaN</td>\n",
       "      <td>NaN</td>\n",
       "      <td>55.88</td>\n",
       "    </tr>\n",
       "    <tr>\n",
       "      <th>147</th>\n",
       "      <td>B. Embolo</td>\n",
       "      <td>Attacker</td>\n",
       "      <td>Borussia Monchengladbach</td>\n",
       "      <td>76.0</td>\n",
       "      <td>42.0</td>\n",
       "      <td>NaN</td>\n",
       "      <td>NaN</td>\n",
       "      <td>55.26</td>\n",
       "    </tr>\n",
       "    <tr>\n",
       "      <th>111</th>\n",
       "      <td>L. Sané</td>\n",
       "      <td>Attacker</td>\n",
       "      <td>Bayern Munich</td>\n",
       "      <td>116.0</td>\n",
       "      <td>61.0</td>\n",
       "      <td>NaN</td>\n",
       "      <td>NaN</td>\n",
       "      <td>52.59</td>\n",
       "    </tr>\n",
       "    <tr>\n",
       "      <th>386</th>\n",
       "      <td>J. Leweling</td>\n",
       "      <td>Midfielder</td>\n",
       "      <td>SpVgg Greuther Furth</td>\n",
       "      <td>90.0</td>\n",
       "      <td>46.0</td>\n",
       "      <td>NaN</td>\n",
       "      <td>NaN</td>\n",
       "      <td>51.11</td>\n",
       "    </tr>\n",
       "  </tbody>\n",
       "</table>\n",
       "</div>"
      ],
      "text/plain": [
       "                      name    position                 team name  \\\n",
       "153                K. Koné  Midfielder  Borussia Monchengladbach   \n",
       "339              C. Nkunku  Midfielder                RB Leipzig   \n",
       "83   Florian Richard Wirtz    Attacker          Bayer Leverkusen   \n",
       "93               A. Davies    Defender             Bayern Munich   \n",
       "94               S. Gnabry  Midfielder             Bayern Munich   \n",
       "82             J. Frimpong    Defender          Bayer Leverkusen   \n",
       "281            Suat Serdar  Midfielder             Hertha Berlin   \n",
       "432             O. Mangala  Midfielder             VfB Stuttgart   \n",
       "109         R. Lewandowski    Attacker             Bayern Munich   \n",
       "146          J. Bellingham  Midfielder         Borussia Dortmund   \n",
       "108               K. Coman    Attacker             Bayern Munich   \n",
       "105          Jamal Musiala  Midfielder             Bayern Munich   \n",
       "147              B. Embolo    Attacker  Borussia Monchengladbach   \n",
       "111                L. Sané    Attacker             Bayern Munich   \n",
       "386            J. Leweling  Midfielder      SpVgg Greuther Furth   \n",
       "\n",
       "     dribbles attempts  dribbles success  Team 2.dribbles attempts  \\\n",
       "153               92.0              67.0                       NaN   \n",
       "339               99.0              66.0                       NaN   \n",
       "83                85.0              55.0                       NaN   \n",
       "93               125.0              80.0                       NaN   \n",
       "94               104.0              63.0                       NaN   \n",
       "82                79.0              47.0                       NaN   \n",
       "281              103.0              61.0                       NaN   \n",
       "432               73.0              43.0                       NaN   \n",
       "109               82.0              48.0                       NaN   \n",
       "146               96.0              55.0                       NaN   \n",
       "108               85.0              48.0                       NaN   \n",
       "105              102.0              57.0                       NaN   \n",
       "147               76.0              42.0                       NaN   \n",
       "111              116.0              61.0                       NaN   \n",
       "386               90.0              46.0                       NaN   \n",
       "\n",
       "     Team 2.dribbles success  SD_percentage  \n",
       "153                      NaN          72.83  \n",
       "339                      NaN          66.67  \n",
       "83                       NaN          64.71  \n",
       "93                       NaN          64.00  \n",
       "94                       NaN          60.58  \n",
       "82                       NaN          59.49  \n",
       "281                      NaN          59.22  \n",
       "432                      NaN          58.90  \n",
       "109                      NaN          58.54  \n",
       "146                      NaN          57.29  \n",
       "108                      NaN          56.47  \n",
       "105                      NaN          55.88  \n",
       "147                      NaN          55.26  \n",
       "111                      NaN          52.59  \n",
       "386                      NaN          51.11  "
      ]
     },
     "execution_count": 70,
     "metadata": {},
     "output_type": "execute_result"
    }
   ],
   "source": [
    "#subset columns and display top 15 lines\n",
    "df21[['name','position','team name','dribbles attempts','dribbles success','Team 2.dribbles attempts','Team 2.dribbles success','SD_percentage']].head(15)"
   ]
  }
 ],
 "metadata": {
  "kernelspec": {
   "display_name": "Python 3",
   "language": "python",
   "name": "python3"
  },
  "language_info": {
   "codemirror_mode": {
    "name": "ipython",
    "version": 3
   },
   "file_extension": ".py",
   "mimetype": "text/x-python",
   "name": "python",
   "nbconvert_exporter": "python",
   "pygments_lexer": "ipython3",
   "version": "3.8.5"
  }
 },
 "nbformat": 4,
 "nbformat_minor": 4
}
